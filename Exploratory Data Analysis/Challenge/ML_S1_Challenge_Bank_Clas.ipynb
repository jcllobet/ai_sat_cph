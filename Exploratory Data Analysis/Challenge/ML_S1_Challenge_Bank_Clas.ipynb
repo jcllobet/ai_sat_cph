{
  "cells": [
    {
      "cell_type": "markdown",
      "metadata": {
        "id": "xSaXBlzl0m6o"
      },
      "source": [
        "# AI Saturdays Training Exercise - Bank Classifier\n",
        "The 'VERYCH' Bank's marketing campaigns rely on customer data. The size of this data is so large that it is impossible for a data analyst to extract good information that can help in the decision-making process. Thus, they have decided to enlist your help to make some sense of the data via ML. \n",
        "\n",
        "## Dataset\n",
        "\n",
        "This data set is related to the direct marketing campaigns from a Portuguese banking institution. Marketing campaigns were based on phone calls. Often, more than one contact with the same client was required, to be able to access whether the product (term bank deposit) would be ('yes') or not ('no') subscribed.\n",
        "\n",
        "The objective is to predict whether the client will subscribe (yes/no) to a term deposit, building a classification model using decision trees.\n",
        "\n",
        "## Summay of data\n",
        "### Categorical Variables :\n",
        "job : admin,technician, services, management, retired, blue-collar, unemployed, entrepreneur, housemaid, unknown, self-employed, student\n",
        "\n",
        "marital : married, single, divorced\n",
        "\n",
        "education: secondary, tertiary, primary, unknown\n",
        "\n",
        "default : yes, no\n",
        "\n",
        "housing : yes, no\n",
        "\n",
        "loan : yes, no\n",
        "\n",
        "deposit : yes, no (Dependent Variable)\n",
        "\n",
        "contact : unknown, cellular, telephone\n",
        "\n",
        "month : jan, feb, mar, apr, may, jun, jul, aug, sep, oct, nov, dec\n",
        "\n",
        "poutcome: unknown, other, failure, success\n",
        "\n",
        "\n",
        "### Numerical Variables:\n",
        "age\n",
        "\n",
        "balance\n",
        "\n",
        "day\n",
        "\n",
        "duration\n",
        "\n",
        "campaign -> number of times that a customer has been contacted in this campaign\n",
        "\n",
        "pdays -> days that have passed since the last contact, -1 if a customer has not been contacted\n",
        "\n",
        "previous -> number of times a customer been contacted prior to the campaign"
      ]
    },
    {
      "cell_type": "code",
      "execution_count": 2,
      "metadata": {
        "id": "Hv0MkAXJ0m6w"
      },
      "outputs": [],
      "source": [
        "# First, we import the necessary libraries\n",
        "import pandas as pd\n",
        "import numpy as np\n",
        "import matplotlib.pyplot as plt\n",
        "import seaborn as sns\n",
        "from sklearn.cluster import KMeans\n",
        "from sklearn import datasets\n",
        "from io import StringIO\n",
        "from sklearn.tree import export_graphviz\n",
        "from sklearn.model_selection import train_test_split\n",
        "from sklearn import tree\n",
        "from sklearn import metrics\n",
        "%matplotlib inline"
      ]
    },
    {
      "cell_type": "code",
      "execution_count": null,
      "metadata": {
        "colab": {
          "base_uri": "https://localhost:8080/",
          "height": 381
        },
        "id": "kQuR1sIC0m6y",
        "outputId": "6eac2c43-7fcd-4294-a63a-6050c0027a58"
      },
      "outputs": [
        {
          "name": "stdout",
          "output_type": "stream",
          "text": [
            "Filas: 11162 Cols: 17\n"
          ]
        },
        {
          "data": {
            "text/html": [
              "<div>\n",
              "<style scoped>\n",
              "    .dataframe tbody tr th:only-of-type {\n",
              "        vertical-align: middle;\n",
              "    }\n",
              "\n",
              "    .dataframe tbody tr th {\n",
              "        vertical-align: top;\n",
              "    }\n",
              "\n",
              "    .dataframe thead th {\n",
              "        text-align: right;\n",
              "    }\n",
              "</style>\n",
              "<table border=\"1\" class=\"dataframe\">\n",
              "  <thead>\n",
              "    <tr style=\"text-align: right;\">\n",
              "      <th></th>\n",
              "      <th>age</th>\n",
              "      <th>job</th>\n",
              "      <th>marital</th>\n",
              "      <th>education</th>\n",
              "      <th>default</th>\n",
              "      <th>balance</th>\n",
              "      <th>housing</th>\n",
              "      <th>loan</th>\n",
              "      <th>contact</th>\n",
              "      <th>day</th>\n",
              "      <th>month</th>\n",
              "      <th>duration</th>\n",
              "      <th>campaign</th>\n",
              "      <th>pdays</th>\n",
              "      <th>previous</th>\n",
              "      <th>poutcome</th>\n",
              "      <th>deposit</th>\n",
              "    </tr>\n",
              "  </thead>\n",
              "  <tbody>\n",
              "    <tr>\n",
              "      <th>0</th>\n",
              "      <td>59</td>\n",
              "      <td>admin.</td>\n",
              "      <td>married</td>\n",
              "      <td>secondary</td>\n",
              "      <td>no</td>\n",
              "      <td>2343</td>\n",
              "      <td>yes</td>\n",
              "      <td>no</td>\n",
              "      <td>unknown</td>\n",
              "      <td>5</td>\n",
              "      <td>may</td>\n",
              "      <td>1042</td>\n",
              "      <td>1</td>\n",
              "      <td>-1</td>\n",
              "      <td>0</td>\n",
              "      <td>unknown</td>\n",
              "      <td>yes</td>\n",
              "    </tr>\n",
              "    <tr>\n",
              "      <th>1</th>\n",
              "      <td>56</td>\n",
              "      <td>admin.</td>\n",
              "      <td>married</td>\n",
              "      <td>secondary</td>\n",
              "      <td>no</td>\n",
              "      <td>45</td>\n",
              "      <td>no</td>\n",
              "      <td>no</td>\n",
              "      <td>unknown</td>\n",
              "      <td>5</td>\n",
              "      <td>may</td>\n",
              "      <td>1467</td>\n",
              "      <td>1</td>\n",
              "      <td>-1</td>\n",
              "      <td>0</td>\n",
              "      <td>unknown</td>\n",
              "      <td>yes</td>\n",
              "    </tr>\n",
              "    <tr>\n",
              "      <th>2</th>\n",
              "      <td>41</td>\n",
              "      <td>technician</td>\n",
              "      <td>married</td>\n",
              "      <td>secondary</td>\n",
              "      <td>no</td>\n",
              "      <td>1270</td>\n",
              "      <td>yes</td>\n",
              "      <td>no</td>\n",
              "      <td>unknown</td>\n",
              "      <td>5</td>\n",
              "      <td>may</td>\n",
              "      <td>1389</td>\n",
              "      <td>1</td>\n",
              "      <td>-1</td>\n",
              "      <td>0</td>\n",
              "      <td>unknown</td>\n",
              "      <td>yes</td>\n",
              "    </tr>\n",
              "    <tr>\n",
              "      <th>3</th>\n",
              "      <td>55</td>\n",
              "      <td>services</td>\n",
              "      <td>married</td>\n",
              "      <td>secondary</td>\n",
              "      <td>no</td>\n",
              "      <td>2476</td>\n",
              "      <td>yes</td>\n",
              "      <td>no</td>\n",
              "      <td>unknown</td>\n",
              "      <td>5</td>\n",
              "      <td>may</td>\n",
              "      <td>579</td>\n",
              "      <td>1</td>\n",
              "      <td>-1</td>\n",
              "      <td>0</td>\n",
              "      <td>unknown</td>\n",
              "      <td>yes</td>\n",
              "    </tr>\n",
              "    <tr>\n",
              "      <th>4</th>\n",
              "      <td>54</td>\n",
              "      <td>admin.</td>\n",
              "      <td>married</td>\n",
              "      <td>tertiary</td>\n",
              "      <td>no</td>\n",
              "      <td>184</td>\n",
              "      <td>no</td>\n",
              "      <td>no</td>\n",
              "      <td>unknown</td>\n",
              "      <td>5</td>\n",
              "      <td>may</td>\n",
              "      <td>673</td>\n",
              "      <td>2</td>\n",
              "      <td>-1</td>\n",
              "      <td>0</td>\n",
              "      <td>unknown</td>\n",
              "      <td>yes</td>\n",
              "    </tr>\n",
              "    <tr>\n",
              "      <th>5</th>\n",
              "      <td>42</td>\n",
              "      <td>management</td>\n",
              "      <td>single</td>\n",
              "      <td>tertiary</td>\n",
              "      <td>no</td>\n",
              "      <td>0</td>\n",
              "      <td>yes</td>\n",
              "      <td>yes</td>\n",
              "      <td>unknown</td>\n",
              "      <td>5</td>\n",
              "      <td>may</td>\n",
              "      <td>562</td>\n",
              "      <td>2</td>\n",
              "      <td>-1</td>\n",
              "      <td>0</td>\n",
              "      <td>unknown</td>\n",
              "      <td>yes</td>\n",
              "    </tr>\n",
              "    <tr>\n",
              "      <th>6</th>\n",
              "      <td>56</td>\n",
              "      <td>management</td>\n",
              "      <td>married</td>\n",
              "      <td>tertiary</td>\n",
              "      <td>no</td>\n",
              "      <td>830</td>\n",
              "      <td>yes</td>\n",
              "      <td>yes</td>\n",
              "      <td>unknown</td>\n",
              "      <td>6</td>\n",
              "      <td>may</td>\n",
              "      <td>1201</td>\n",
              "      <td>1</td>\n",
              "      <td>-1</td>\n",
              "      <td>0</td>\n",
              "      <td>unknown</td>\n",
              "      <td>yes</td>\n",
              "    </tr>\n",
              "    <tr>\n",
              "      <th>7</th>\n",
              "      <td>60</td>\n",
              "      <td>retired</td>\n",
              "      <td>divorced</td>\n",
              "      <td>secondary</td>\n",
              "      <td>no</td>\n",
              "      <td>545</td>\n",
              "      <td>yes</td>\n",
              "      <td>no</td>\n",
              "      <td>unknown</td>\n",
              "      <td>6</td>\n",
              "      <td>may</td>\n",
              "      <td>1030</td>\n",
              "      <td>1</td>\n",
              "      <td>-1</td>\n",
              "      <td>0</td>\n",
              "      <td>unknown</td>\n",
              "      <td>yes</td>\n",
              "    </tr>\n",
              "    <tr>\n",
              "      <th>8</th>\n",
              "      <td>37</td>\n",
              "      <td>technician</td>\n",
              "      <td>married</td>\n",
              "      <td>secondary</td>\n",
              "      <td>no</td>\n",
              "      <td>1</td>\n",
              "      <td>yes</td>\n",
              "      <td>no</td>\n",
              "      <td>unknown</td>\n",
              "      <td>6</td>\n",
              "      <td>may</td>\n",
              "      <td>608</td>\n",
              "      <td>1</td>\n",
              "      <td>-1</td>\n",
              "      <td>0</td>\n",
              "      <td>unknown</td>\n",
              "      <td>yes</td>\n",
              "    </tr>\n",
              "    <tr>\n",
              "      <th>9</th>\n",
              "      <td>28</td>\n",
              "      <td>services</td>\n",
              "      <td>single</td>\n",
              "      <td>secondary</td>\n",
              "      <td>no</td>\n",
              "      <td>5090</td>\n",
              "      <td>yes</td>\n",
              "      <td>no</td>\n",
              "      <td>unknown</td>\n",
              "      <td>6</td>\n",
              "      <td>may</td>\n",
              "      <td>1297</td>\n",
              "      <td>3</td>\n",
              "      <td>-1</td>\n",
              "      <td>0</td>\n",
              "      <td>unknown</td>\n",
              "      <td>yes</td>\n",
              "    </tr>\n",
              "  </tbody>\n",
              "</table>\n",
              "</div>"
            ],
            "text/plain": [
              "   age         job   marital  education  ... pdays  previous poutcome deposit\n",
              "0   59      admin.   married  secondary  ...    -1         0  unknown     yes\n",
              "1   56      admin.   married  secondary  ...    -1         0  unknown     yes\n",
              "2   41  technician   married  secondary  ...    -1         0  unknown     yes\n",
              "3   55    services   married  secondary  ...    -1         0  unknown     yes\n",
              "4   54      admin.   married   tertiary  ...    -1         0  unknown     yes\n",
              "5   42  management    single   tertiary  ...    -1         0  unknown     yes\n",
              "6   56  management   married   tertiary  ...    -1         0  unknown     yes\n",
              "7   60     retired  divorced  secondary  ...    -1         0  unknown     yes\n",
              "8   37  technician   married  secondary  ...    -1         0  unknown     yes\n",
              "9   28    services    single  secondary  ...    -1         0  unknown     yes\n",
              "\n",
              "[10 rows x 17 columns]"
            ]
          },
          "execution_count": 7,
          "metadata": {
            "tags": []
          },
          "output_type": "execute_result"
        }
      ],
      "source": [
        "# We open the csv and create a dataframe from it.\n",
        "df = pd.read_csv('bank.csv')\n",
        "\n",
        "# Show number of rows and columns of the dataframe\n",
        "print(\"Rows: \" + str(df.shape[0]) + \" Cols: \" + str(df.shape[1]))"
      ]
    },
    {
      "cell_type": "markdown",
      "metadata": {},
      "source": [
        "**TODO** by you: Show the first 10 rows "
      ]
    },
    {
      "cell_type": "code",
      "execution_count": null,
      "metadata": {},
      "outputs": [],
      "source": [
        "# Write your code here"
      ]
    },
    {
      "cell_type": "markdown",
      "metadata": {},
      "source": [
        "**TODO**  Find the number of unique values in each column"
      ]
    },
    {
      "cell_type": "code",
      "execution_count": null,
      "metadata": {
        "colab": {
          "base_uri": "https://localhost:8080/"
        },
        "id": "Q3CJj91I0m60",
        "outputId": "66216e20-b785-4ffb-8c51-e09125e3c565"
      },
      "outputs": [
        {
          "name": "stdout",
          "output_type": "stream",
          "text": [
            "76\n",
            "12\n",
            "3\n",
            "4\n",
            "2\n",
            "3805\n",
            "2\n",
            "2\n",
            "3\n",
            "31\n",
            "12\n",
            "1428\n",
            "36\n",
            "472\n",
            "34\n",
            "4\n",
            "2\n"
          ]
        }
      ],
      "source": [
        "# Write your code here"
      ]
    },
    {
      "cell_type": "markdown",
      "metadata": {},
      "source": [
        "**TODO** Print the general information of the dataframe"
      ]
    },
    {
      "cell_type": "code",
      "execution_count": null,
      "metadata": {
        "id": "BbrKvHw30m61"
      },
      "outputs": [],
      "source": [
        "# Write your code here"
      ]
    },
    {
      "cell_type": "markdown",
      "metadata": {},
      "source": [
        "**TODO** Print the general statistics description of the dataframe"
      ]
    },
    {
      "cell_type": "code",
      "execution_count": null,
      "metadata": {
        "id": "-kYcZjE20m62"
      },
      "outputs": [],
      "source": [
        "# Write your code here"
      ]
    },
    {
      "cell_type": "markdown",
      "metadata": {},
      "source": [
        "**TODO** Print the age distribution"
      ]
    },
    {
      "cell_type": "code",
      "execution_count": null,
      "metadata": {
        "id": "XAmp0dPs0m63"
      },
      "outputs": [],
      "source": [
        "# Write your code here"
      ]
    },
    {
      "cell_type": "markdown",
      "metadata": {
        "id": "2hfHDerQ0m63"
      },
      "source": [
        "### Now, we transform the categorical data into numerical"
      ]
    },
    {
      "cell_type": "code",
      "execution_count": 6,
      "metadata": {
        "id": "FJ0HrLL80m64"
      },
      "outputs": [],
      "source": [
        "# We first copy the dataframe to avoid information loss\n",
        "bank_data = df.copy()\n"
      ]
    },
    {
      "cell_type": "markdown",
      "metadata": {
        "id": "22d0t97O0m64"
      },
      "source": [
        "**TODO**   Display the number of people that made a deposit split by their job category"
      ]
    },
    {
      "cell_type": "code",
      "execution_count": 8,
      "metadata": {
        "colab": {
          "base_uri": "https://localhost:8080/"
        },
        "id": "yCaqKg8c0m65",
        "outputId": "8a8fe3d9-88e3-48d0-d5b6-7701d945c2ed"
      },
      "outputs": [
        {
          "name": "stdout",
          "output_type": "stream",
          "text": [
            "admin.          :   631\n",
            "technician      :   840\n",
            "services        :   369\n",
            "management      :  1301\n",
            "retired         :   516\n",
            "blue-collar     :   708\n",
            "unemployed      :   202\n",
            "entrepreneur    :   123\n",
            "housemaid       :   109\n",
            "unknown         :    34\n",
            "self-employed   :   187\n",
            "student         :   269\n"
          ]
        }
      ],
      "source": [
        "# Write your code here"
      ]
    },
    {
      "cell_type": "markdown",
      "metadata": {},
      "source": [
        "**TODO**  Print the different types of work categories and how many items are in each \n",
        "Tip; investigate value_counts"
      ]
    },
    {
      "cell_type": "code",
      "execution_count": null,
      "metadata": {
        "id": "A5NGverZ0m66"
      },
      "outputs": [],
      "source": [
        "# Write your code here"
      ]
    },
    {
      "cell_type": "markdown",
      "metadata": {},
      "source": [
        "**TODO**  Combine similar jobs in categories\n",
        "Tip: Research the function replace\n",
        "['management', 'admin.'] ->  'white-collar'\n",
        "['services','housemaid'] -> 'pink-collar'\n",
        "['retired', 'student', 'unemployed', 'unknown'] ->  'other'"
      ]
    },
    {
      "cell_type": "code",
      "execution_count": null,
      "metadata": {
        "id": "izdXXHU90m67"
      },
      "outputs": [],
      "source": [
        "# Write your code here"
      ]
    },
    {
      "cell_type": "code",
      "execution_count": null,
      "metadata": {
        "id": "-6WCgtPw0m67"
      },
      "outputs": [],
      "source": [
        "# We now count the values again to see how the information has turned out\n",
        "bank_data.job.value_counts()"
      ]
    },
    {
      "cell_type": "markdown",
      "metadata": {
        "id": "PaYSRdY10m67"
      },
      "source": [
        "#### poutcome"
      ]
    },
    {
      "cell_type": "code",
      "execution_count": 9,
      "metadata": {
        "colab": {
          "base_uri": "https://localhost:8080/"
        },
        "id": "HcWHEYL60m67",
        "outputId": "46bcb9aa-31f6-4dc4-a530-c5216263f363"
      },
      "outputs": [
        {
          "data": {
            "text/plain": [
              "unknown    8326\n",
              "failure    1228\n",
              "success    1071\n",
              "other       537\n",
              "Name: poutcome, dtype: int64"
            ]
          },
          "execution_count": 9,
          "metadata": {
            "tags": []
          },
          "output_type": "execute_result"
        }
      ],
      "source": [
        "# We check its value counts\n",
        "bank_data.poutcome.value_counts()"
      ]
    },
    {
      "cell_type": "markdown",
      "metadata": {},
      "source": [
        "**TODO**  Combine unknown and other, since 'other' is not compatible with 'sucess' and 'failure'"
      ]
    },
    {
      "cell_type": "code",
      "execution_count": null,
      "metadata": {
        "id": "RuNB7kFX0m68"
      },
      "outputs": [],
      "source": [
        "# Tip, reuse the function replace\n",
        "bank_data['poutcome'] = # Write your code here\n",
        "bank_data.poutcome.value_counts()"
      ]
    },
    {
      "cell_type": "markdown",
      "metadata": {
        "id": "Ln6w0hN20m68"
      },
      "source": [
        "#### TODO: Drop the 'contact' column since it does not provide relevant information "
      ]
    },
    {
      "cell_type": "code",
      "execution_count": null,
      "metadata": {
        "id": "yedSIoRq0m69"
      },
      "outputs": [],
      "source": [
        "# Write your code here\n"
      ]
    },
    {
      "cell_type": "markdown",
      "metadata": {
        "id": "dPLrqIPZ0m69"
      },
      "source": [
        "#### default"
      ]
    },
    {
      "cell_type": "code",
      "execution_count": null,
      "metadata": {
        "id": "gHM-fHJU0m69"
      },
      "outputs": [],
      "source": [
        "# We change its 'default' values to: 'yes' and 'no'\n",
        "bank_data[\"default\"]\n",
        "bank_data['default_cat'] = bank_data['default'].map( {'yes':1, 'no':0} )\n",
        "bank_data.drop('default', axis=1,inplace = True)"
      ]
    },
    {
      "cell_type": "markdown",
      "metadata": {
        "id": "CeyzsKR30m69"
      },
      "source": [
        "#### housing, loan, deposit\n",
        "\n",
        "Now do the same with the following variables"
      ]
    },
    {
      "cell_type": "code",
      "execution_count": null,
      "metadata": {
        "id": "UKhUiwdY0m6-"
      },
      "outputs": [],
      "source": [
        "# values for \"housing\" : yes/no\n"
      ]
    },
    {
      "cell_type": "code",
      "execution_count": null,
      "metadata": {
        "id": "Ac_qjjAH0m6_"
      },
      "outputs": [],
      "source": [
        "# values for \"loan\" : yes/no\n"
      ]
    },
    {
      "cell_type": "code",
      "execution_count": null,
      "metadata": {
        "id": "CkLzpII90m6_"
      },
      "outputs": [],
      "source": [
        "# values for \"deposit\" : yes/no\n"
      ]
    },
    {
      "cell_type": "code",
      "execution_count": null,
      "metadata": {
        "id": "jLUY86nJ0m6_"
      },
      "outputs": [],
      "source": [
        "# pdays: number of days that passed after the customer was last contacted from a previous campaign\n",
        "# -1 means the client was not previously contacted\n",
        "\n",
        "print(\"Customers that have not been contacted before:\", len(bank_data[bank_data.pdays==-1]))\n",
        "print(\"Maximum values on padys    :\", bank_data['pdays'].max())"
      ]
    },
    {
      "cell_type": "code",
      "execution_count": null,
      "metadata": {
        "id": "Yzml5QIm0m6_"
      },
      "outputs": [],
      "source": [
        "# replace the -1 value of pdays with a large value i.e. 10000 to reflect that the customer has not been contacted in a long time (similar to never contacted)\n"
      ]
    },
    {
      "cell_type": "code",
      "execution_count": null,
      "metadata": {
        "id": "uxApl8Xk0m6_"
      },
      "outputs": [],
      "source": [
        "# Create a new column containing recent_pdays, reflect those that are recent as the largest values and those that have never been contacted\n",
        "\n",
        "# the smallest values (always positive). For this, do the inverse of the value of pdays. \n",
        "\n",
        "# Once done, delete pdays\n",
        "\n",
        "# Create a new column: recent_pdays"
      ]
    },
    {
      "cell_type": "markdown",
      "metadata": {
        "id": "Kh5yxolS0m6_"
      },
      "source": [
        "### **TODO:** Convert to dummy values\n",
        "\n",
        "Convert the variables to dummies: In order to treat them as (numerical) vectors we need to change the categorical variables to numeric.\n",
        "\n",
        "To do this, what is done is, for each categorical variable, replace it with as many variables as there are values in the column, containing 1 if that row had that value and 0 if not\n",
        "\n",
        "*Tip: investigate the function get_dummies*"
      ]
    },
    {
      "cell_type": "code",
      "execution_count": null,
      "metadata": {
        "id": "cdJ4PM_g0m7A"
      },
      "outputs": [],
      "source": [
        "# Write your code here\n",
        "bank_with_dummies = "
      ]
    },
    {
      "cell_type": "code",
      "execution_count": null,
      "metadata": {
        "id": "vinrDYkO0m7A"
      },
      "outputs": [],
      "source": [
        "# Check how it has changed the structure (dimensions) of the dataframe\n",
        "bank_with_dummies.shape\n"
      ]
    },
    {
      "cell_type": "code",
      "execution_count": null,
      "metadata": {
        "id": "fLiZCw2U0m7A"
      },
      "outputs": [],
      "source": [
        "bank_with_dummies.describe()\n"
      ]
    },
    {
      "cell_type": "markdown",
      "metadata": {},
      "source": [
        "**TODO:** \n",
        "Scatterplot with age and money in the account (balance). You can do it with pandas and its plot function or with seaborn's scatterplot"
      ]
    },
    {
      "cell_type": "code",
      "execution_count": null,
      "metadata": {
        "id": "XRijLTIv0m7A"
      },
      "outputs": [],
      "source": [
        "# Write your code below"
      ]
    },
    {
      "cell_type": "markdown",
      "metadata": {},
      "source": [
        "What is your intepretation of the results?"
      ]
    },
    {
      "cell_type": "markdown",
      "metadata": {},
      "source": [
        "**TODO:** Display a Histogram with poutcome_success variable"
      ]
    },
    {
      "cell_type": "code",
      "execution_count": null,
      "metadata": {
        "id": "IESCx3-m0m7B"
      },
      "outputs": [],
      "source": [
        "# Write your code below"
      ]
    },
    {
      "cell_type": "code",
      "execution_count": null,
      "metadata": {
        "id": "-fXp_PWd0m7B"
      },
      "outputs": [],
      "source": [
        "# People who signed up for a deposit\n",
        "bank_with_dummies[bank_data.deposit_cat == 1].describe()\n"
      ]
    },
    {
      "cell_type": "code",
      "execution_count": null,
      "metadata": {
        "id": "IQkwyKou0m7C"
      },
      "outputs": [],
      "source": [
        "# Now we want to showcase a bar diagram displaying the deposited amount by job. Look into barplot from seaborn\n",
        "plt.figure(figsize = (10,6))\n"
      ]
    },
    {
      "cell_type": "markdown",
      "metadata": {
        "id": "WTUeKhEd0m7C"
      },
      "source": [
        "### **TODO:** Establish relationships between features"
      ]
    },
    {
      "cell_type": "code",
      "execution_count": null,
      "metadata": {
        "id": "mCQKCcTI0m7C"
      },
      "outputs": [],
      "source": [
        "# show variable correlation matrix\n",
        "# Hint: Explore the pandas corr and seaborn heatmap functions"
      ]
    },
    {
      "cell_type": "code",
      "execution_count": null,
      "metadata": {
        "id": "UgY3cwok0m7D"
      },
      "outputs": [],
      "source": [
        "# Show correlations as a discrete function between the different variables with an array\n",
        "# useful for appreciating linear relationships\n",
        "\n",
        "# Hint: explore pd.plotting.scatter_matrix"
      ]
    },
    {
      "cell_type": "code",
      "execution_count": null,
      "metadata": {
        "id": "TeG3gK6Y0m7D"
      },
      "outputs": [],
      "source": [
        "# Split the test by a certain proportion (experiment!) Import the sklearn library and use train test split ;)"
      ]
    },
    {
      "cell_type": "code",
      "execution_count": null,
      "metadata": {
        "id": "m_BgxWsY0m7D"
      },
      "outputs": [],
      "source": [
        "# Define a classifier\n",
        "from sklearn.neighbors import KNeighborsClassifier\n",
        "\n",
        "k = #...\n",
        "\n",
        "KNeighborsClassifier(n_neighbors=k)\n",
        "\n",
        "# Train the classifier with the train dataset\n",
        "neigh.fit(X, y)\n",
        "\n",
        "# Predict values for the independent test variables\n",
        "neigh.predict(# the test data)\n",
        "\n",
        "# Calculate precision\n",
        "neigh.score(#test data X, test data y)\n"
      ]
    }
  ],
  "metadata": {
    "colab": {
      "collapsed_sections": [],
      "name": "AI Saturdays Classification & EDA Exercise.ipynb",
      "provenance": []
    },
    "kernelspec": {
      "display_name": "Python 3",
      "language": "python",
      "name": "python3"
    },
    "language_info": {
      "codemirror_mode": {
        "name": "ipython",
        "version": 3
      },
      "file_extension": ".py",
      "mimetype": "text/x-python",
      "name": "python",
      "nbconvert_exporter": "python",
      "pygments_lexer": "ipython3",
      "version": "3.9.7"
    }
  },
  "nbformat": 4,
  "nbformat_minor": 0
}

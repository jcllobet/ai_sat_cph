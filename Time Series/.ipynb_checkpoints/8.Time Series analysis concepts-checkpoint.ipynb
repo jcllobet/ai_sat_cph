{
 "cells": [
  {
   "cell_type": "markdown",
   "metadata": {},
   "source": [
    "# Time series data structures & Time-based indexing"
   ]
  },
  {
   "cell_type": "markdown",
   "metadata": {},
   "source": [
    "# Part 1"
   ]
  },
  {
   "cell_type": "markdown",
   "metadata": {},
   "source": [
    "Inspiration from: \n",
    "https://www.dataquest.io/blog/tutorial-time-series-analysis-with-pandas/\n",
    "\n",
    "The data set includes country-wide totals of electricity consumption, wind and solar power production for 2006-2017, Germany.\n"
   ]
  },
  {
   "cell_type": "code",
   "execution_count": null,
   "metadata": {},
   "outputs": [],
   "source": [
    "import pandas as pd\n",
    "\n",
    "opsd_daily = pd.read_csv('https://raw.githubusercontent.com/jenfly/opsd/master/opsd_germany_daily.csv', index_col=0,\n",
    "                         parse_dates=True)\n",
    "print(\"Shape:\", opsd_daily.shape)\n",
    "opsd_daily.head(3)\n",
    "import numpy as np\n",
    "\n",
    "import matplotlib.pyplot as plt\n",
    "\n",
    "plt.rcParams['figure.figsize'] = [20, 10]"
   ]
  },
  {
   "cell_type": "markdown",
   "metadata": {
    "pycharm": {
     "name": "#%% md\n"
    }
   },
   "source": [
    "Notice that the index is already in datetime format! :-) So we can add a few columns easily"
   ]
  },
  {
   "cell_type": "code",
   "execution_count": null,
   "metadata": {},
   "outputs": [],
   "source": [
    "# Add columns with year, month, and weekday name\n"
   ]
  },
  {
   "cell_type": "markdown",
   "metadata": {},
   "source": [
    "For example, we can also select data for a single day using a string such as '2017-08-10'"
   ]
  },
  {
   "cell_type": "code",
   "execution_count": null,
   "metadata": {},
   "outputs": [],
   "source": [
    "opsd_daily.loc['2017-08-10']"
   ]
  },
  {
   "cell_type": "markdown",
   "metadata": {},
   "source": [
    "We can also select a slice of days, such as '2014-01-20':'2014-01-22'. As with regular label-based indexing with loc, the slice is inclusive of both endpoints."
   ]
  },
  {
   "cell_type": "code",
   "execution_count": null,
   "metadata": {},
   "outputs": [],
   "source": [
    "opsd_daily.loc['2014-01-20':'2014-01-22']"
   ]
  },
  {
   "cell_type": "markdown",
   "metadata": {},
   "source": [
    "Another very handy feature of pandas time series is partial-string indexing, where we can select all date/times which partially match a given string. For example, we can select the entire year 2006 with opsd_daily.loc['2006'], or the entire month of February 2012 with opsd_daily.loc['2012-02']."
   ]
  },
  {
   "cell_type": "code",
   "execution_count": null,
   "metadata": {
    "scrolled": true
   },
   "outputs": [],
   "source": [
    "# Try yourself"
   ]
  },
  {
   "cell_type": "markdown",
   "metadata": {},
   "source": [
    "An interesting question in this dataset is how much of the generated green energy was sufficient for the overall consumption. Create two new columns, one called \"gap\" (consumption-green energy production) and one called ratio (green energy production/consumption)."
   ]
  },
  {
   "cell_type": "code",
   "execution_count": null,
   "metadata": {},
   "outputs": [],
   "source": []
  },
  {
   "cell_type": "markdown",
   "metadata": {},
   "source": [
    "In this notebook, we're interested in this supply-demand relationship (i.e. production vs consumption), and you may have noticed that the first years have no production reported (they are NANs). Remove all NANs from the dataset."
   ]
  },
  {
   "cell_type": "code",
   "execution_count": null,
   "metadata": {},
   "outputs": [],
   "source": []
  },
  {
   "cell_type": "markdown",
   "metadata": {},
   "source": [
    "# Visualizing time series data"
   ]
  },
  {
   "cell_type": "code",
   "execution_count": null,
   "metadata": {},
   "outputs": [],
   "source": [
    "# We’ll use seaborn styling for our plots, and let’s adjust the \n",
    "# default figure size to an appropriate shape for time series plots.\n",
    "import seaborn as sns\n",
    "\n",
    "sns.set(rc={'figure.figsize': (14, 5)})"
   ]
  },
  {
   "cell_type": "markdown",
   "metadata": {},
   "source": [
    "Create a line plot of the full time series of Germany’s daily electricity consumption, using the DataFrame’s plot() method."
   ]
  },
  {
   "cell_type": "code",
   "execution_count": null,
   "metadata": {},
   "outputs": [],
   "source": []
  },
  {
   "cell_type": "markdown",
   "metadata": {},
   "source": [
    "We can see that the plot() method has chosen pretty good tick locations (every two years) and labels (the years) for the x-axis, which is helpful. However, with so many data points, the line plot is crowded and hard to read. Let’s plot the data as dots instead, and also look at the Solar and Wind time series."
   ]
  },
  {
   "cell_type": "code",
   "execution_count": null,
   "metadata": {},
   "outputs": [],
   "source": [
    "cols_plot = ['Consumption', 'Solar', 'Wind']\n",
    "#axes = opsd_daily[cols_plot].plot(\"Complete this yourself\")\n",
    "#for ax in axes:\n",
    "#    ax.set_ylabel('Daily Totals (GWh)')"
   ]
  },
  {
   "cell_type": "markdown",
   "metadata": {},
   "source": [
    "Can you see any interesting pattern?"
   ]
  },
  {
   "cell_type": "markdown",
   "metadata": {},
   "source": []
  },
  {
   "cell_type": "markdown",
   "metadata": {},
   "source": [
    "Do you want to check the supply-demand gap and ratios you did before?"
   ]
  },
  {
   "cell_type": "code",
   "execution_count": null,
   "metadata": {},
   "outputs": [],
   "source": [
    "cols_plot = ['ratio', 'gap']\n",
    "ylabels = # Your turn\n",
    "#axes = opsd_daily[cols_plot].plot(\"Your code goes here\")\n",
    "#for ax, ylab in zip(axes, ylabels):\n",
    "#    ax.set_ylabel(ylab)\n"
   ]
  },
  {
   "cell_type": "markdown",
   "metadata": {},
   "source": [
    "All time series clearly exhibit periodicity—often referred to as seasonality in time series analysis—in which a pattern repeats again and again at regular time intervals. Seasonality can also occur on other time scales. The Consumption plot above suggests there may be some weekly seasonality, corresponding with weekdays and weekends. Let’s plot the time series in a single year to investigate further."
   ]
  },
  {
   "cell_type": "code",
   "execution_count": null,
   "metadata": {},
   "outputs": [],
   "source": []
  },
  {
   "cell_type": "markdown",
   "metadata": {},
   "source": [
    "Now we can clearly see the weekly oscillations. Another interesting feature that becomes apparent at this level of granularity is the drastic decrease in electricity consumption in early January and late December, during the holidays.\n",
    "\n",
    "Let’s zoom in further and look at just January and February."
   ]
  },
  {
   "cell_type": "code",
   "execution_count": null,
   "metadata": {},
   "outputs": [],
   "source": [
    "weekends = opsd_daily.loc['2017-01':'2017-02', 'Consumption'].index.weekday >= 5"
   ]
  },
  {
   "cell_type": "code",
   "execution_count": null,
   "metadata": {},
   "outputs": [],
   "source": [
    "colors = ['blue' if x else 'red' for x in weekends]"
   ]
  },
  {
   "cell_type": "code",
   "execution_count": null,
   "metadata": {
    "scrolled": true
   },
   "outputs": [],
   "source": [
    "import matplotlib.dates as mdates\n",
    "\n",
    "fig, ax = plt.subplots()\n",
    "ax.plot(opsd_daily.loc['2017-01':'2017-02', 'Consumption'])\n",
    "ax.scatter(opsd_daily.loc['2017-01':'2017-02'].index, opsd_daily.loc['2017-01':'2017-02', 'Consumption'], marker='o',\n",
    "           linestyle='-', c=colors)\n",
    "ax.set_ylabel('Daily Consumption (GWh)')\n",
    "ax.set_title('Jan-Feb 2017 Electricity Consumption')\n",
    "\n",
    "# To better visualize the weekly seasonality in electricity consumption \n",
    "# we add vertical gridlines on a weekly time scale\n",
    "\n",
    "# Set x-axis major ticks to weekly interval, on Mondays\n",
    "ax.xaxis.set_major_locator(mdates.WeekdayLocator(byweekday=mdates.MONDAY))\n",
    "# Format x-tick labels as 3-letter month name and day number\n",
    "ax.xaxis.set_major_formatter(mdates.DateFormatter('%b %d'));"
   ]
  },
  {
   "cell_type": "markdown",
   "metadata": {},
   "source": [
    "What do you see? To see the different effect of weekdays and weekends, color them differently in the graph (edit the code above to have red for normal days, and blue for weekends)"
   ]
  },
  {
   "cell_type": "markdown",
   "metadata": {},
   "source": [
    "Your comments are supposed to be here"
   ]
  },
  {
   "cell_type": "markdown",
   "metadata": {},
   "source": [
    "# Stationarity"
   ]
  },
  {
   "cell_type": "markdown",
   "metadata": {},
   "source": [
    "You can see visually that we're facing a non-stationary signal."
   ]
  },
  {
   "cell_type": "code",
   "execution_count": null,
   "metadata": {},
   "outputs": [],
   "source": [
    "from statsmodels.tsa.stattools import adfuller"
   ]
  },
  {
   "cell_type": "code",
   "execution_count": null,
   "metadata": {},
   "outputs": [],
   "source": [
    "\n",
    "result = adfuller(opsd_daily['Solar'])\n",
    "print('ADF Statistic: %f' % result[0])\n",
    "print('p-value: %f' % result[1])\n",
    "print('Critical Values:')\n",
    "for key, value in result[4].items():\n",
    "    print('\\t%s: %.3f' % (key, value))"
   ]
  },
  {
   "cell_type": "markdown",
   "metadata": {},
   "source": [
    "Create a new column, called \"diff\", that has the difference between consecutive values (diff[t=1]=Solar[t=1]-Solar[t=0])\n",
    " "
   ]
  },
  {
   "cell_type": "code",
   "execution_count": null,
   "metadata": {},
   "outputs": [],
   "source": [
    "#opsd_daily['diff'] = [0] + (\n",
    "#        np.array(opsd_daily['Solar'].to_list()[1:]) - np.array(opsd_daily['Solar'].to_list()[:-1])).tolist()"
   ]
  },
  {
   "cell_type": "code",
   "execution_count": null,
   "metadata": {},
   "outputs": [],
   "source": [
    "# Try the pandas method yourself --> .diff()"
   ]
  },
  {
   "cell_type": "markdown",
   "metadata": {},
   "source": [
    "Re-run the AD Fuller test on this signal"
   ]
  },
  {
   "cell_type": "code",
   "execution_count": null,
   "metadata": {},
   "outputs": [],
   "source": [
    "\n",
    "result = adfuller(opsd_daily['diff'])\n",
    "print('ADF Statistic: %f' % result[0])\n",
    "print('p-value: %f' % result[1])\n",
    "print('Critical Values:')\n",
    "for key, value in result[4].items():\n",
    "    print('\\t%s: %.3f' % (key, value))"
   ]
  },
  {
   "cell_type": "markdown",
   "metadata": {},
   "source": [
    "Plot this new signal (ONLY for a single month, say January and Februar 2017, otherwise you won't see much...)"
   ]
  },
  {
   "cell_type": "code",
   "execution_count": null,
   "metadata": {},
   "outputs": [],
   "source": [
    "import matplotlib.dates as mdates\n",
    "\n",
    "\n",
    "\n",
    "# To better visualize the weekly seasonality in electricity consumption \n",
    "# we add vertical gridlines on a weekly time scale\n",
    "\n",
    "# Set x-axis major ticks to weekly interval, on Mondays\n",
    "#ax.xaxis.set_major_locator(mdates.WeekdayLocator(byweekday=mdates.MONDAY))\n",
    "# Format x-tick labels as 3-letter month name and day number\n",
    "#ax.xaxis.set_major_formatter(mdates.DateFormatter('%b %d'));"
   ]
  },
  {
   "cell_type": "markdown",
   "metadata": {},
   "source": [
    "# Part 2 - Seasonality"
   ]
  },
  {
   "cell_type": "markdown",
   "metadata": {},
   "source": [
    "Next, let’s further explore the seasonality of our data with box plots, using seaborn’s boxplot() function to group the data by different time periods and display the distributions for each group. We’ll first group the data by month, to visualize yearly seasonality."
   ]
  },
  {
   "cell_type": "code",
   "execution_count": null,
   "metadata": {},
   "outputs": [],
   "source": [
    "fig, axes = plt.subplots(3, 1, figsize=(11, 10), sharex=True)\n",
    "for name, ax in zip(['Consumption', 'Solar', 'Wind'], axes):\n",
    "    sns.boxplot(data=opsd_daily, x='Month', y=name, ax=ax)\n",
    "    ax.set_ylabel('GWh')\n",
    "    ax.set_title(name)\n",
    "    # Remove the automatic x-axis label from all but the bottom subplot\n",
    "    if ax != axes[-1]:\n",
    "        ax.set_xlabel('')"
   ]
  },
  {
   "cell_type": "markdown",
   "metadata": {},
   "source": [
    "These box plots confirm the yearly seasonality that we saw in earlier plots. Can you notice something more?"
   ]
  },
  {
   "cell_type": "markdown",
   "metadata": {},
   "source": []
  },
  {
   "cell_type": "markdown",
   "metadata": {},
   "source": [
    "Next, let’s group the electricity consumption time series by day of the week, to explore weekly seasonality."
   ]
  },
  {
   "cell_type": "code",
   "execution_count": null,
   "metadata": {},
   "outputs": [],
   "source": []
  },
  {
   "cell_type": "markdown",
   "metadata": {},
   "source": [
    "As expected, electricity consumption is significantly higher on weekdays than on weekends. Can you think about a reason of the outliyers during the weekdays?"
   ]
  },
  {
   "cell_type": "markdown",
   "metadata": {},
   "source": []
  },
  {
   "cell_type": "markdown",
   "metadata": {},
   "source": [
    "Time series with strong seasonality can often be well represented with models that decompose the signal into seasonality and a long-term trend, and these models can be used to forecast future values of the time series."
   ]
  },
  {
   "cell_type": "markdown",
   "metadata": {},
   "source": [
    "#  Resampling"
   ]
  },
  {
   "cell_type": "markdown",
   "metadata": {},
   "source": [
    "It is often useful to resample our time series data to a lower or higher frequency. Resampling to a lower frequency (downsampling) usually involves an aggregation operation — for example, computing monthly sales totals from daily data. Resampling to a higher frequency (upsampling) is less common and often involves interpolation or other data filling method or filling the gaps in a dataset with missing data — for example, interpolating hourly weather data to 10 minute intervals for input to a scientific model.\n",
    "\n",
    "We will focus here on downsampling, exploring how it can help us analyze our OPSD data on various time scales. We use the DataFrame’s resample() method, which splits the DatetimeIndex into time bins and groups the data by time bin. The resample() method returns a Resampler object, similar to a pandas GroupBy object. We can then apply an aggregation method such as mean(), median(), sum(), etc., to the data group for each time bin."
   ]
  },
  {
   "cell_type": "code",
   "execution_count": null,
   "metadata": {},
   "outputs": [],
   "source": [
    "# Specify the data columns we want to include (i.e. exclude Year, Month, Weekday Name)\n",
    "data_columns = ['Consumption', 'Wind', 'Solar', 'Wind+Solar', 'gap', 'diff']\n",
    "# Resample to weekly frequency, aggregating with mean\n",
    "opsd_weekly_mean = # Your code goes here\n",
    "opsd_weekly_mean[:3]"
   ]
  },
  {
   "cell_type": "markdown",
   "metadata": {},
   "source": [
    "The first row above, labelled 2006-01-01, contains the mean of all the data contained in the time bin 2006-01-01 through 2006-01-07. The second row, labelled 2006-01-08, contains the mean data for the 2006-01-08 through 2006-01-14 time bin, and so on. By default, each row of the downsampled time series is labelled with the left edge of the time bin.\n",
    "\n",
    "Let’s plot the daily and weekly Solar time series together over a single six-month period to compare them."
   ]
  },
  {
   "cell_type": "code",
   "execution_count": null,
   "metadata": {},
   "outputs": [],
   "source": [
    "# Start and end of the date range to extract\n",
    "start, end = '2017-01', '2017-06'\n",
    "# Plot daily and weekly resampled time series together\n",
    "fig, ax = plt.subplots()\n",
    "\n",
    "# Your PLOTS\n",
    "\n",
    "ax.legend();"
   ]
  },
  {
   "cell_type": "markdown",
   "metadata": {},
   "source": [
    "You should see that the weekly mean time series is smoother than the daily time series because higher frequency variability has been averaged out in the resampling."
   ]
  },
  {
   "cell_type": "markdown",
   "metadata": {},
   "source": [
    "Now let’s resample the data to monthly frequency, aggregating with sum totals instead of the mean. Unlike aggregating with mean(), which sets the output to NaN for any period with all missing data, the default behavior of sum() will return output of 0 as the sum of missing data. We use the min_count parameter to change this behavior.\n",
    "\n",
    "Now let’s explore the monthly time series by "
   ]
  },
  {
   "cell_type": "code",
   "execution_count": null,
   "metadata": {},
   "outputs": [],
   "source": [
    "# Compute the monthly sums, setting the value to NaN for any month which has\n",
    "# fewer than 28 days of data\n",
    "\n",
    "# plotting the electricity consumption as a line plot, \n",
    "# and the wind and solar power production together as a stacked area plot.\n",
    "\n",
    "fig, ax = plt.subplots()\n",
    "\n",
    "# Define the plot yourself\n",
    "\n",
    "ax.xaxis.set_major_locator(mdates.YearLocator())\n",
    "ax.legend()\n",
    "ax.set_ylabel('Monthly Total (GWh)');"
   ]
  },
  {
   "cell_type": "markdown",
   "metadata": {},
   "source": [
    "Can you resample the ratio of Wind+Solar to Consumption to each year?"
   ]
  },
  {
   "cell_type": "code",
   "execution_count": null,
   "metadata": {},
   "outputs": [],
   "source": [
    "opsd_annual = # Your code goes here\n",
    "\n",
    "opsd_annual = opsd_annual.set_index(opsd_annual.index.year)\n",
    "opsd_annual.index.name = 'Year'\n",
    "\n",
    "# Plot from 2012 onwards, because there is no solar production data in earlier years\n",
    "ax = # Your code goes here\n",
    "ax.set_ylabel('Ratio')\n",
    "ax.set_title('Wind + Solar Share of Annual Electricity Consumption')\n",
    "plt.xticks(rotation=0);"
   ]
  },
  {
   "cell_type": "markdown",
   "metadata": {},
   "source": [
    "# Rolling windows"
   ]
  },
  {
   "cell_type": "markdown",
   "metadata": {},
   "source": [
    "Rolling window operations are another important transformation for time series data. Similar to downsampling, rolling windows split the data into time windows, and the data in each window is aggregated with a function such as mean(), median(), sum(), etc. However, unlike downsampling, where the time bins do not overlap and the output is at a lower frequency than the input, rolling windows overlap and “roll” along at the same frequency as the data, so the transformed time series is at the same frequency as the original time series. \n",
    "\n",
    "When we apply the mean() to the rolling window, it is also called \"moving average\".\n",
    "\n",
    "Let’s use the rolling() method to compute the 7-day rolling mean of our daily data. We use the center=True argument to label each window at its midpoint."
   ]
  },
  {
   "cell_type": "code",
   "execution_count": null,
   "metadata": {},
   "outputs": [],
   "source": [
    "# Compute the centered 7-day rolling mean\n",
    "opsd_7d = # Your code goes here\n",
    "opsd_7d.head(10)"
   ]
  },
  {
   "cell_type": "markdown",
   "metadata": {},
   "source": [
    "We can see that the first non-missing moving average value is on 2006-01-04, because this is the midpoint of the first rolling window.\n",
    "\n",
    "To visualize the differences between moving average and resampling, let’s update our earlier plot of January-June 2017 solar power production to include the 7-day rolling mean along with the weekly mean resampled time series and the original daily data."
   ]
  },
  {
   "cell_type": "code",
   "execution_count": null,
   "metadata": {},
   "outputs": [],
   "source": [
    "# Start and end of the date range to extract\n",
    "start, end = '2017-01', '2017-06'\n",
    "# Plot daily, weekly resampled, and 7-day moving average time series together\n",
    "fig, ax = plt.subplots()\n",
    "ax.plot(opsd_daily.loc[start:end, 'Solar'],\n",
    "        marker='.', linestyle='-', linewidth=0.5, label='Daily')\n",
    "ax.plot(opsd_weekly_mean.loc[start:end, 'Solar'],\n",
    "        marker='o', markersize=8, linestyle='-', label='Weekly Mean Resample')\n",
    "ax.plot(opsd_7d.loc[start:end, 'Solar'],\n",
    "        marker='.', linestyle='-', label='7-d Moving Average', color=\"grey\")\n",
    "ax.set_ylabel('Solar Production (GWh)')\n",
    "ax.legend();"
   ]
  },
  {
   "cell_type": "markdown",
   "metadata": {},
   "source": [
    "What do you see?"
   ]
  },
  {
   "cell_type": "markdown",
   "metadata": {},
   "source": []
  },
  {
   "cell_type": "markdown",
   "metadata": {},
   "source": [
    "# Trends"
   ]
  },
  {
   "cell_type": "markdown",
   "metadata": {},
   "source": [
    "Time series data often exhibit some slow, gradual variability in addition to higher frequency variability such as seasonality and noise. An easy way to visualize these trends is with moving averages at different time scales.\n",
    "\n",
    "A moving average transformation tends to smooth a time series by averaging out variations at frequencies much higher than the window size and averaging out any seasonality on a time scale equal to the window size. This allows lower-frequency variations in the data to be explored. Since our electricity consumption time series has weekly and yearly seasonality, let’s look at moving averages on those two time scales.\n",
    "\n",
    "We’ve already computed 7-day rolling means, so now let’s compute the 365-day rolling mean of our OPSD data."
   ]
  },
  {
   "cell_type": "code",
   "execution_count": null,
   "metadata": {},
   "outputs": [],
   "source": [
    "# The min_periods=360 argument accounts for a few isolated missing days in the\n",
    "# wind and solar production time series\n",
    "opsd_365d = # Your code goes here\n",
    "\n",
    "# Plot daily, 7-day rolling mean, and 365-day rolling mean time series\n",
    "fig, ax = plt.subplots()\n",
    "ax.plot(opsd_daily['Consumption'], marker='.', markersize=2, color='0.6',\n",
    "        linestyle='None', label='Daily')\n",
    "ax.plot(opsd_7d['Consumption'], linewidth=2, label='7-d Rolling Mean')\n",
    "ax.plot(opsd_365d['Consumption'], color='0.2', linewidth=3,\n",
    "        label='Trend (365-d Rolling Mean)')\n",
    "# Set x-ticks to yearly interval and add legend and labels\n",
    "ax.xaxis.set_major_locator(mdates.YearLocator())\n",
    "ax.legend()\n",
    "ax.set_xlabel('Year')\n",
    "ax.set_ylabel('Consumption (GWh)')\n",
    "ax.set_title('Trends in Electricity Consumption');"
   ]
  },
  {
   "cell_type": "markdown",
   "metadata": {},
   "source": [
    "We can see that the 7-day moving average has smoothed out all the weekly seasonality, while preserving the yearly seasonality. The 7-day moving average reveals that while electricity consumption is typically higher in winter and lower in summer, there is a dramatic decrease for a few weeks every winter at the end of December and beginning of January, during the holidays.\n",
    "\n",
    "Looking at the 365-day moving average time series, we can see that the long-term trend in electricity consumption is seems to move in plateaus, first until 2013, then 2014 onwards.\n",
    "\n",
    "Now let’s look at trends in wind and solar production."
   ]
  },
  {
   "cell_type": "code",
   "execution_count": null,
   "metadata": {},
   "outputs": [],
   "source": [
    "# Plot 365-day rolling mean time series of wind and solar power\n",
    "fig, ax = plt.subplots()\n",
    "for nm in ['Wind', 'Solar', 'Wind+Solar']:\n",
    "    ax.plot(opsd_365d[nm], label=nm)\n",
    "    # Set x-ticks to yearly interval, adjust y-axis limits, add legend and labels\n",
    "    ax.xaxis.set_major_locator(mdates.YearLocator())\n",
    "    ax.set_ylim(0, 400)\n",
    "    ax.legend()\n",
    "    ax.set_ylabel('Production (GWh)')\n",
    "    ax.set_title('Trends in Electricity Production (365-d moving averages)');"
   ]
  },
  {
   "cell_type": "markdown",
   "metadata": {},
   "source": [
    "We can see an almost negligible increasing trend in solar power production and a large increasing trend in wind power production, as Germany continues to expand its capacity in that sector."
   ]
  },
  {
   "cell_type": "markdown",
   "metadata": {},
   "source": [
    "# Autocorrelation"
   ]
  },
  {
   "cell_type": "markdown",
   "metadata": {},
   "source": [
    "Let's now investigate the autocorrelations in our dataset. As usual, there are nice Python packages for this:"
   ]
  },
  {
   "cell_type": "code",
   "execution_count": null,
   "metadata": {},
   "outputs": [],
   "source": [
    "from statsmodels.graphics.tsaplots import plot_acf, plot_pacf"
   ]
  },
  {
   "cell_type": "markdown",
   "metadata": {},
   "source": [
    "Now plotting ACF and PACF is really trivial:"
   ]
  },
  {
   "cell_type": "code",
   "execution_count": null,
   "metadata": {},
   "outputs": [],
   "source": [
    "# Your turn"
   ]
  },
  {
   "cell_type": "markdown",
   "metadata": {
    "pycharm": {
     "name": "#%% md\n"
    }
   },
   "source": [
    "What does this tell you? Later on you'll see that this is useful to decide the orders of MA and AR components of your model"
   ]
  }
 ],
 "metadata": {
  "kernelspec": {
   "display_name": "Python 3",
   "language": "python",
   "name": "python3"
  },
  "language_info": {
   "codemirror_mode": {
    "name": "ipython",
    "version": 3
   },
   "file_extension": ".py",
   "mimetype": "text/x-python",
   "name": "python",
   "nbconvert_exporter": "python",
   "pygments_lexer": "ipython3",
   "version": "3.8.5"
  },
  "toc": {
   "base_numbering": 1,
   "nav_menu": {},
   "number_sections": true,
   "sideBar": true,
   "skip_h1_title": false,
   "title_cell": "Table of Contents",
   "title_sidebar": "Contents",
   "toc_cell": false,
   "toc_position": {},
   "toc_section_display": true,
   "toc_window_display": false
  },
  "varInspector": {
   "cols": {
    "lenName": 16,
    "lenType": 16,
    "lenVar": 40
   },
   "kernels_config": {
    "python": {
     "delete_cmd_postfix": "",
     "delete_cmd_prefix": "del ",
     "library": "var_list.py",
     "varRefreshCmd": "print(var_dic_list())"
    },
    "r": {
     "delete_cmd_postfix": ") ",
     "delete_cmd_prefix": "rm(",
     "library": "var_list.r",
     "varRefreshCmd": "cat(var_dic_list()) "
    }
   },
   "types_to_exclude": [
    "module",
    "function",
    "builtin_function_or_method",
    "instance",
    "_Feature"
   ],
   "window_display": false
  }
 },
 "nbformat": 4,
 "nbformat_minor": 2
}

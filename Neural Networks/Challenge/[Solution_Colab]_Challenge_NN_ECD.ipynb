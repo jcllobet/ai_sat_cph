{
  "cells": [
    {
      "cell_type": "markdown",
      "metadata": {
        "id": "_4SY6kKk6bbs"
      },
      "source": [
        "# **AISaturdays NN Challenge**\n",
        "\n",
        "Everyone welcome to this week's challenge. This time we will detect cases of cardiovascular disease through the analysis of electrocardiograms of the heartbeat.\n",
        "\n",
        "\n",
        "**In this exercise you will:**\n",
        "- Understand and run NoteBooks with Python.\n",
        "- Be able to use Python functions and additional libraries.\n",
        "-Dataset:\n",
        "  - Get the dataset and preview the dataset information.\n",
        "  - Clean and normalize the dataset information.\n",
        "  - Represent and analyze dataset information.\n",
        "- Apply a NN model.\n",
        "- Improve the prediction by optimizing the model.\n",
        "\n",
        "This exercise is based on this [paper](https://arxiv.org/pdf/1805.00794.pdf) that solves the problem we are facing. Take it as a source of inspiration.\n",
        "\n",
        "Let's go!"
      ]
    },
    {
      "cell_type": "markdown",
      "metadata": {
        "id": "L0qYB7lj6bbw"
      },
      "source": [
        "## Importing the libraries"
      ]
    },
    {
      "cell_type": "code",
      "execution_count": null,
      "metadata": {
        "id": "y0qu2BDk6bbx"
      },
      "outputs": [],
      "source": [
        "import pandas as pd\n",
        "import matplotlib.pyplot as plt\n",
        "import numpy as np"
      ]
    },
    {
      "cell_type": "markdown",
      "metadata": {
        "id": "4Mb7jqHn6bby"
      },
      "source": [
        "## Data analysis"
      ]
    },
    {
      "cell_type": "markdown",
      "source": [
        "We are going to see two different ways of importing data in Google Colab:\n",
        "\n",
        "\n",
        "1.   By uploading the file from your local disk: less recomended since it takes a lot of time if the file to upload is heavy\n",
        "2.   By giving Colab access to your drive and taking the file from there: more recommened since it is faster.\n"
      ],
      "metadata": {
        "id": "8cecgLLTgXUK"
      }
    },
    {
      "cell_type": "code",
      "execution_count": null,
      "metadata": {
        "colab": {
          "resources": {
            "http://localhost:8080/nbextensions/google.colab/files.js": {
              "data": "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",
              "ok": true,
              "headers": [
                [
                  "content-type",
                  "application/javascript"
                ]
              ],
              "status": 200,
              "status_text": ""
            }
          },
          "base_uri": "https://localhost:8080/",
          "height": 393
        },
        "id": "fVerxHX86bby",
        "outputId": "8d3a578a-45c1-4095-9d01-4eaca707ced6"
      },
      "outputs": [
        {
          "output_type": "display_data",
          "data": {
            "text/plain": [
              "<IPython.core.display.HTML object>"
            ],
            "text/html": [
              "\n",
              "     <input type=\"file\" id=\"files-a2115875-2b7f-469f-b18c-492045a24900\" name=\"files[]\" multiple disabled\n",
              "        style=\"border:none\" />\n",
              "     <output id=\"result-a2115875-2b7f-469f-b18c-492045a24900\">\n",
              "      Upload widget is only available when the cell has been executed in the\n",
              "      current browser session. Please rerun this cell to enable.\n",
              "      </output>\n",
              "      <script src=\"/nbextensions/google.colab/files.js\"></script> "
            ]
          },
          "metadata": {}
        },
        {
          "output_type": "error",
          "ename": "FileNotFoundError",
          "evalue": "ignored",
          "traceback": [
            "\u001b[0;31m---------------------------------------------------------------------------\u001b[0m",
            "\u001b[0;31mFileNotFoundError\u001b[0m                         Traceback (most recent call last)",
            "\u001b[0;32m<ipython-input-4-87d53bbbe21d>\u001b[0m in \u001b[0;36m<module>\u001b[0;34m()\u001b[0m\n\u001b[1;32m      3\u001b[0m \u001b[0mfiles\u001b[0m\u001b[0;34m.\u001b[0m\u001b[0mupload\u001b[0m\u001b[0;34m(\u001b[0m\u001b[0;34m)\u001b[0m\u001b[0;34m\u001b[0m\u001b[0;34m\u001b[0m\u001b[0m\n\u001b[1;32m      4\u001b[0m \u001b[0;34m\u001b[0m\u001b[0m\n\u001b[0;32m----> 5\u001b[0;31m \u001b[0mdata\u001b[0m \u001b[0;34m=\u001b[0m \u001b[0mpd\u001b[0m\u001b[0;34m.\u001b[0m\u001b[0mread_csv\u001b[0m\u001b[0;34m(\u001b[0m\u001b[0;34m'mitbih_train.csv'\u001b[0m\u001b[0;34m,\u001b[0m \u001b[0mheader\u001b[0m\u001b[0;34m=\u001b[0m\u001b[0;32mNone\u001b[0m\u001b[0;34m)\u001b[0m\u001b[0;34m\u001b[0m\u001b[0;34m\u001b[0m\u001b[0m\n\u001b[0m",
            "\u001b[0;32m/usr/local/lib/python3.7/dist-packages/pandas/util/_decorators.py\u001b[0m in \u001b[0;36mwrapper\u001b[0;34m(*args, **kwargs)\u001b[0m\n\u001b[1;32m    309\u001b[0m                     \u001b[0mstacklevel\u001b[0m\u001b[0;34m=\u001b[0m\u001b[0mstacklevel\u001b[0m\u001b[0;34m,\u001b[0m\u001b[0;34m\u001b[0m\u001b[0;34m\u001b[0m\u001b[0m\n\u001b[1;32m    310\u001b[0m                 )\n\u001b[0;32m--> 311\u001b[0;31m             \u001b[0;32mreturn\u001b[0m \u001b[0mfunc\u001b[0m\u001b[0;34m(\u001b[0m\u001b[0;34m*\u001b[0m\u001b[0margs\u001b[0m\u001b[0;34m,\u001b[0m \u001b[0;34m**\u001b[0m\u001b[0mkwargs\u001b[0m\u001b[0;34m)\u001b[0m\u001b[0;34m\u001b[0m\u001b[0;34m\u001b[0m\u001b[0m\n\u001b[0m\u001b[1;32m    312\u001b[0m \u001b[0;34m\u001b[0m\u001b[0m\n\u001b[1;32m    313\u001b[0m         \u001b[0;32mreturn\u001b[0m \u001b[0mwrapper\u001b[0m\u001b[0;34m\u001b[0m\u001b[0;34m\u001b[0m\u001b[0m\n",
            "\u001b[0;32m/usr/local/lib/python3.7/dist-packages/pandas/io/parsers/readers.py\u001b[0m in \u001b[0;36mread_csv\u001b[0;34m(filepath_or_buffer, sep, delimiter, header, names, index_col, usecols, squeeze, prefix, mangle_dupe_cols, dtype, engine, converters, true_values, false_values, skipinitialspace, skiprows, skipfooter, nrows, na_values, keep_default_na, na_filter, verbose, skip_blank_lines, parse_dates, infer_datetime_format, keep_date_col, date_parser, dayfirst, cache_dates, iterator, chunksize, compression, thousands, decimal, lineterminator, quotechar, quoting, doublequote, escapechar, comment, encoding, encoding_errors, dialect, error_bad_lines, warn_bad_lines, on_bad_lines, delim_whitespace, low_memory, memory_map, float_precision, storage_options)\u001b[0m\n\u001b[1;32m    584\u001b[0m     \u001b[0mkwds\u001b[0m\u001b[0;34m.\u001b[0m\u001b[0mupdate\u001b[0m\u001b[0;34m(\u001b[0m\u001b[0mkwds_defaults\u001b[0m\u001b[0;34m)\u001b[0m\u001b[0;34m\u001b[0m\u001b[0;34m\u001b[0m\u001b[0m\n\u001b[1;32m    585\u001b[0m \u001b[0;34m\u001b[0m\u001b[0m\n\u001b[0;32m--> 586\u001b[0;31m     \u001b[0;32mreturn\u001b[0m \u001b[0m_read\u001b[0m\u001b[0;34m(\u001b[0m\u001b[0mfilepath_or_buffer\u001b[0m\u001b[0;34m,\u001b[0m \u001b[0mkwds\u001b[0m\u001b[0;34m)\u001b[0m\u001b[0;34m\u001b[0m\u001b[0;34m\u001b[0m\u001b[0m\n\u001b[0m\u001b[1;32m    587\u001b[0m \u001b[0;34m\u001b[0m\u001b[0m\n\u001b[1;32m    588\u001b[0m \u001b[0;34m\u001b[0m\u001b[0m\n",
            "\u001b[0;32m/usr/local/lib/python3.7/dist-packages/pandas/io/parsers/readers.py\u001b[0m in \u001b[0;36m_read\u001b[0;34m(filepath_or_buffer, kwds)\u001b[0m\n\u001b[1;32m    480\u001b[0m \u001b[0;34m\u001b[0m\u001b[0m\n\u001b[1;32m    481\u001b[0m     \u001b[0;31m# Create the parser.\u001b[0m\u001b[0;34m\u001b[0m\u001b[0;34m\u001b[0m\u001b[0;34m\u001b[0m\u001b[0m\n\u001b[0;32m--> 482\u001b[0;31m     \u001b[0mparser\u001b[0m \u001b[0;34m=\u001b[0m \u001b[0mTextFileReader\u001b[0m\u001b[0;34m(\u001b[0m\u001b[0mfilepath_or_buffer\u001b[0m\u001b[0;34m,\u001b[0m \u001b[0;34m**\u001b[0m\u001b[0mkwds\u001b[0m\u001b[0;34m)\u001b[0m\u001b[0;34m\u001b[0m\u001b[0;34m\u001b[0m\u001b[0m\n\u001b[0m\u001b[1;32m    483\u001b[0m \u001b[0;34m\u001b[0m\u001b[0m\n\u001b[1;32m    484\u001b[0m     \u001b[0;32mif\u001b[0m \u001b[0mchunksize\u001b[0m \u001b[0;32mor\u001b[0m \u001b[0miterator\u001b[0m\u001b[0;34m:\u001b[0m\u001b[0;34m\u001b[0m\u001b[0;34m\u001b[0m\u001b[0m\n",
            "\u001b[0;32m/usr/local/lib/python3.7/dist-packages/pandas/io/parsers/readers.py\u001b[0m in \u001b[0;36m__init__\u001b[0;34m(self, f, engine, **kwds)\u001b[0m\n\u001b[1;32m    809\u001b[0m             \u001b[0mself\u001b[0m\u001b[0;34m.\u001b[0m\u001b[0moptions\u001b[0m\u001b[0;34m[\u001b[0m\u001b[0;34m\"has_index_names\"\u001b[0m\u001b[0;34m]\u001b[0m \u001b[0;34m=\u001b[0m \u001b[0mkwds\u001b[0m\u001b[0;34m[\u001b[0m\u001b[0;34m\"has_index_names\"\u001b[0m\u001b[0;34m]\u001b[0m\u001b[0;34m\u001b[0m\u001b[0;34m\u001b[0m\u001b[0m\n\u001b[1;32m    810\u001b[0m \u001b[0;34m\u001b[0m\u001b[0m\n\u001b[0;32m--> 811\u001b[0;31m         \u001b[0mself\u001b[0m\u001b[0;34m.\u001b[0m\u001b[0m_engine\u001b[0m \u001b[0;34m=\u001b[0m \u001b[0mself\u001b[0m\u001b[0;34m.\u001b[0m\u001b[0m_make_engine\u001b[0m\u001b[0;34m(\u001b[0m\u001b[0mself\u001b[0m\u001b[0;34m.\u001b[0m\u001b[0mengine\u001b[0m\u001b[0;34m)\u001b[0m\u001b[0;34m\u001b[0m\u001b[0;34m\u001b[0m\u001b[0m\n\u001b[0m\u001b[1;32m    812\u001b[0m \u001b[0;34m\u001b[0m\u001b[0m\n\u001b[1;32m    813\u001b[0m     \u001b[0;32mdef\u001b[0m \u001b[0mclose\u001b[0m\u001b[0;34m(\u001b[0m\u001b[0mself\u001b[0m\u001b[0;34m)\u001b[0m\u001b[0;34m:\u001b[0m\u001b[0;34m\u001b[0m\u001b[0;34m\u001b[0m\u001b[0m\n",
            "\u001b[0;32m/usr/local/lib/python3.7/dist-packages/pandas/io/parsers/readers.py\u001b[0m in \u001b[0;36m_make_engine\u001b[0;34m(self, engine)\u001b[0m\n\u001b[1;32m   1038\u001b[0m             )\n\u001b[1;32m   1039\u001b[0m         \u001b[0;31m# error: Too many arguments for \"ParserBase\"\u001b[0m\u001b[0;34m\u001b[0m\u001b[0;34m\u001b[0m\u001b[0;34m\u001b[0m\u001b[0m\n\u001b[0;32m-> 1040\u001b[0;31m         \u001b[0;32mreturn\u001b[0m \u001b[0mmapping\u001b[0m\u001b[0;34m[\u001b[0m\u001b[0mengine\u001b[0m\u001b[0;34m]\u001b[0m\u001b[0;34m(\u001b[0m\u001b[0mself\u001b[0m\u001b[0;34m.\u001b[0m\u001b[0mf\u001b[0m\u001b[0;34m,\u001b[0m \u001b[0;34m**\u001b[0m\u001b[0mself\u001b[0m\u001b[0;34m.\u001b[0m\u001b[0moptions\u001b[0m\u001b[0;34m)\u001b[0m  \u001b[0;31m# type: ignore[call-arg]\u001b[0m\u001b[0;34m\u001b[0m\u001b[0;34m\u001b[0m\u001b[0m\n\u001b[0m\u001b[1;32m   1041\u001b[0m \u001b[0;34m\u001b[0m\u001b[0m\n\u001b[1;32m   1042\u001b[0m     \u001b[0;32mdef\u001b[0m \u001b[0m_failover_to_python\u001b[0m\u001b[0;34m(\u001b[0m\u001b[0mself\u001b[0m\u001b[0;34m)\u001b[0m\u001b[0;34m:\u001b[0m\u001b[0;34m\u001b[0m\u001b[0;34m\u001b[0m\u001b[0m\n",
            "\u001b[0;32m/usr/local/lib/python3.7/dist-packages/pandas/io/parsers/c_parser_wrapper.py\u001b[0m in \u001b[0;36m__init__\u001b[0;34m(self, src, **kwds)\u001b[0m\n\u001b[1;32m     49\u001b[0m \u001b[0;34m\u001b[0m\u001b[0m\n\u001b[1;32m     50\u001b[0m         \u001b[0;31m# open handles\u001b[0m\u001b[0;34m\u001b[0m\u001b[0;34m\u001b[0m\u001b[0;34m\u001b[0m\u001b[0m\n\u001b[0;32m---> 51\u001b[0;31m         \u001b[0mself\u001b[0m\u001b[0;34m.\u001b[0m\u001b[0m_open_handles\u001b[0m\u001b[0;34m(\u001b[0m\u001b[0msrc\u001b[0m\u001b[0;34m,\u001b[0m \u001b[0mkwds\u001b[0m\u001b[0;34m)\u001b[0m\u001b[0;34m\u001b[0m\u001b[0;34m\u001b[0m\u001b[0m\n\u001b[0m\u001b[1;32m     52\u001b[0m         \u001b[0;32massert\u001b[0m \u001b[0mself\u001b[0m\u001b[0;34m.\u001b[0m\u001b[0mhandles\u001b[0m \u001b[0;32mis\u001b[0m \u001b[0;32mnot\u001b[0m \u001b[0;32mNone\u001b[0m\u001b[0;34m\u001b[0m\u001b[0;34m\u001b[0m\u001b[0m\n\u001b[1;32m     53\u001b[0m \u001b[0;34m\u001b[0m\u001b[0m\n",
            "\u001b[0;32m/usr/local/lib/python3.7/dist-packages/pandas/io/parsers/base_parser.py\u001b[0m in \u001b[0;36m_open_handles\u001b[0;34m(self, src, kwds)\u001b[0m\n\u001b[1;32m    227\u001b[0m             \u001b[0mmemory_map\u001b[0m\u001b[0;34m=\u001b[0m\u001b[0mkwds\u001b[0m\u001b[0;34m.\u001b[0m\u001b[0mget\u001b[0m\u001b[0;34m(\u001b[0m\u001b[0;34m\"memory_map\"\u001b[0m\u001b[0;34m,\u001b[0m \u001b[0;32mFalse\u001b[0m\u001b[0;34m)\u001b[0m\u001b[0;34m,\u001b[0m\u001b[0;34m\u001b[0m\u001b[0;34m\u001b[0m\u001b[0m\n\u001b[1;32m    228\u001b[0m             \u001b[0mstorage_options\u001b[0m\u001b[0;34m=\u001b[0m\u001b[0mkwds\u001b[0m\u001b[0;34m.\u001b[0m\u001b[0mget\u001b[0m\u001b[0;34m(\u001b[0m\u001b[0;34m\"storage_options\"\u001b[0m\u001b[0;34m,\u001b[0m \u001b[0;32mNone\u001b[0m\u001b[0;34m)\u001b[0m\u001b[0;34m,\u001b[0m\u001b[0;34m\u001b[0m\u001b[0;34m\u001b[0m\u001b[0m\n\u001b[0;32m--> 229\u001b[0;31m             \u001b[0merrors\u001b[0m\u001b[0;34m=\u001b[0m\u001b[0mkwds\u001b[0m\u001b[0;34m.\u001b[0m\u001b[0mget\u001b[0m\u001b[0;34m(\u001b[0m\u001b[0;34m\"encoding_errors\"\u001b[0m\u001b[0;34m,\u001b[0m \u001b[0;34m\"strict\"\u001b[0m\u001b[0;34m)\u001b[0m\u001b[0;34m,\u001b[0m\u001b[0;34m\u001b[0m\u001b[0;34m\u001b[0m\u001b[0m\n\u001b[0m\u001b[1;32m    230\u001b[0m         )\n\u001b[1;32m    231\u001b[0m \u001b[0;34m\u001b[0m\u001b[0m\n",
            "\u001b[0;32m/usr/local/lib/python3.7/dist-packages/pandas/io/common.py\u001b[0m in \u001b[0;36mget_handle\u001b[0;34m(path_or_buf, mode, encoding, compression, memory_map, is_text, errors, storage_options)\u001b[0m\n\u001b[1;32m    705\u001b[0m                 \u001b[0mencoding\u001b[0m\u001b[0;34m=\u001b[0m\u001b[0mioargs\u001b[0m\u001b[0;34m.\u001b[0m\u001b[0mencoding\u001b[0m\u001b[0;34m,\u001b[0m\u001b[0;34m\u001b[0m\u001b[0;34m\u001b[0m\u001b[0m\n\u001b[1;32m    706\u001b[0m                 \u001b[0merrors\u001b[0m\u001b[0;34m=\u001b[0m\u001b[0merrors\u001b[0m\u001b[0;34m,\u001b[0m\u001b[0;34m\u001b[0m\u001b[0;34m\u001b[0m\u001b[0m\n\u001b[0;32m--> 707\u001b[0;31m                 \u001b[0mnewline\u001b[0m\u001b[0;34m=\u001b[0m\u001b[0;34m\"\"\u001b[0m\u001b[0;34m,\u001b[0m\u001b[0;34m\u001b[0m\u001b[0;34m\u001b[0m\u001b[0m\n\u001b[0m\u001b[1;32m    708\u001b[0m             )\n\u001b[1;32m    709\u001b[0m         \u001b[0;32melse\u001b[0m\u001b[0;34m:\u001b[0m\u001b[0;34m\u001b[0m\u001b[0;34m\u001b[0m\u001b[0m\n",
            "\u001b[0;31mFileNotFoundError\u001b[0m: [Errno 2] No such file or directory: 'mitbih_train.csv'"
          ]
        }
      ],
      "source": [
        "#1st WAY: This import allows us to load data from our local machine. NOT RECOMMENDED\n",
        "from google.colab import files \n",
        "files.upload()\n",
        "\n",
        "data = pd.read_csv('mitbih_train.csv', header=None)"
      ]
    },
    {
      "cell_type": "code",
      "source": [
        "#2nd WAY: This import allows us to take data from our drive folder: RECOMMENDED\n",
        "\n",
        "!pip install -U -q PyDrive\n",
        "\n",
        "from pydrive.auth import GoogleAuth\n",
        "from pydrive.drive import GoogleDrive\n",
        "from google.colab import auth\n",
        "from oauth2client.client import GoogleCredentials\n",
        " \n",
        " \n",
        "# Authenticate and create the PyDrive client.\n",
        "auth.authenticate_user()\n",
        "gauth = GoogleAuth()\n",
        "gauth.credentials = GoogleCredentials.get_application_default()\n",
        "drive = GoogleDrive(gauth)"
      ],
      "metadata": {
        "id": "p5hhNccr6jVE"
      },
      "execution_count": null,
      "outputs": []
    },
    {
      "cell_type": "code",
      "source": [
        "#Now, go to your Drive and get the shareable link of the data you want to use\n",
        "link = 'https://drive.google.com/file/d/16xNzdtAgnudJ2NXQydRHsXrQTyqcVNVg/view?usp=sharing'\n",
        " \n",
        "# to get the id part of the file\n",
        "id = link.split(\"/\")[-2]\n",
        " \n",
        "downloaded = drive.CreateFile({'id':id})\n",
        "downloaded.GetContentFile('train_data.csv') \n",
        " \n",
        "data = pd.read_csv('train_data.csv', header = None)"
      ],
      "metadata": {
        "id": "kn7dhodQg_pm"
      },
      "execution_count": null,
      "outputs": []
    },
    {
      "cell_type": "markdown",
      "metadata": {
        "id": "bklHodxV6bbz"
      },
      "source": [
        "How big is the dataset?"
      ]
    },
    {
      "cell_type": "code",
      "execution_count": null,
      "metadata": {
        "colab": {
          "base_uri": "https://localhost:8080/"
        },
        "id": "dfTVJ75y6bbz",
        "outputId": "52a6e02d-6964-4112-d650-3324e2ecb37b"
      },
      "outputs": [
        {
          "output_type": "execute_result",
          "data": {
            "text/plain": [
              "(87554, 188)"
            ]
          },
          "metadata": {},
          "execution_count": 16
        }
      ],
      "source": [
        "data.shape"
      ]
    },
    {
      "cell_type": "markdown",
      "metadata": {
        "id": "-y6to9aK6bb1"
      },
      "source": [
        "Let's see how many columns are in the dataset. Show the first five rows"
      ]
    },
    {
      "cell_type": "code",
      "execution_count": null,
      "metadata": {
        "scrolled": true,
        "colab": {
          "base_uri": "https://localhost:8080/",
          "height": 235
        },
        "id": "w0TQKYDn6bb1",
        "outputId": "adcafb97-fc44-4b24-c6d1-7fdbbd5e8449"
      },
      "outputs": [
        {
          "output_type": "execute_result",
          "data": {
            "text/plain": [
              "        0         1         2         3         4         5         6    \\\n",
              "0  0.977941  0.926471  0.681373  0.245098  0.154412  0.191176  0.151961   \n",
              "1  0.960114  0.863248  0.461538  0.196581  0.094017  0.125356  0.099715   \n",
              "2  1.000000  0.659459  0.186486  0.070270  0.070270  0.059459  0.056757   \n",
              "3  0.925414  0.665746  0.541436  0.276243  0.196133  0.077348  0.071823   \n",
              "4  0.967136  1.000000  0.830986  0.586854  0.356808  0.248826  0.145540   \n",
              "\n",
              "        7         8         9    ...  178  179  180  181  182  183  184  185  \\\n",
              "0  0.085784  0.058824  0.049020  ...  0.0  0.0  0.0  0.0  0.0  0.0  0.0  0.0   \n",
              "1  0.088319  0.074074  0.082621  ...  0.0  0.0  0.0  0.0  0.0  0.0  0.0  0.0   \n",
              "2  0.043243  0.054054  0.045946  ...  0.0  0.0  0.0  0.0  0.0  0.0  0.0  0.0   \n",
              "3  0.060773  0.066298  0.058011  ...  0.0  0.0  0.0  0.0  0.0  0.0  0.0  0.0   \n",
              "4  0.089202  0.117371  0.150235  ...  0.0  0.0  0.0  0.0  0.0  0.0  0.0  0.0   \n",
              "\n",
              "   186  187  \n",
              "0  0.0  0.0  \n",
              "1  0.0  0.0  \n",
              "2  0.0  0.0  \n",
              "3  0.0  0.0  \n",
              "4  0.0  0.0  \n",
              "\n",
              "[5 rows x 188 columns]"
            ],
            "text/html": [
              "\n",
              "  <div id=\"df-efa8ae72-7ff3-4f36-9ffe-c4ddaab5e57c\">\n",
              "    <div class=\"colab-df-container\">\n",
              "      <div>\n",
              "<style scoped>\n",
              "    .dataframe tbody tr th:only-of-type {\n",
              "        vertical-align: middle;\n",
              "    }\n",
              "\n",
              "    .dataframe tbody tr th {\n",
              "        vertical-align: top;\n",
              "    }\n",
              "\n",
              "    .dataframe thead th {\n",
              "        text-align: right;\n",
              "    }\n",
              "</style>\n",
              "<table border=\"1\" class=\"dataframe\">\n",
              "  <thead>\n",
              "    <tr style=\"text-align: right;\">\n",
              "      <th></th>\n",
              "      <th>0</th>\n",
              "      <th>1</th>\n",
              "      <th>2</th>\n",
              "      <th>3</th>\n",
              "      <th>4</th>\n",
              "      <th>5</th>\n",
              "      <th>6</th>\n",
              "      <th>7</th>\n",
              "      <th>8</th>\n",
              "      <th>9</th>\n",
              "      <th>...</th>\n",
              "      <th>178</th>\n",
              "      <th>179</th>\n",
              "      <th>180</th>\n",
              "      <th>181</th>\n",
              "      <th>182</th>\n",
              "      <th>183</th>\n",
              "      <th>184</th>\n",
              "      <th>185</th>\n",
              "      <th>186</th>\n",
              "      <th>187</th>\n",
              "    </tr>\n",
              "  </thead>\n",
              "  <tbody>\n",
              "    <tr>\n",
              "      <th>0</th>\n",
              "      <td>0.977941</td>\n",
              "      <td>0.926471</td>\n",
              "      <td>0.681373</td>\n",
              "      <td>0.245098</td>\n",
              "      <td>0.154412</td>\n",
              "      <td>0.191176</td>\n",
              "      <td>0.151961</td>\n",
              "      <td>0.085784</td>\n",
              "      <td>0.058824</td>\n",
              "      <td>0.049020</td>\n",
              "      <td>...</td>\n",
              "      <td>0.0</td>\n",
              "      <td>0.0</td>\n",
              "      <td>0.0</td>\n",
              "      <td>0.0</td>\n",
              "      <td>0.0</td>\n",
              "      <td>0.0</td>\n",
              "      <td>0.0</td>\n",
              "      <td>0.0</td>\n",
              "      <td>0.0</td>\n",
              "      <td>0.0</td>\n",
              "    </tr>\n",
              "    <tr>\n",
              "      <th>1</th>\n",
              "      <td>0.960114</td>\n",
              "      <td>0.863248</td>\n",
              "      <td>0.461538</td>\n",
              "      <td>0.196581</td>\n",
              "      <td>0.094017</td>\n",
              "      <td>0.125356</td>\n",
              "      <td>0.099715</td>\n",
              "      <td>0.088319</td>\n",
              "      <td>0.074074</td>\n",
              "      <td>0.082621</td>\n",
              "      <td>...</td>\n",
              "      <td>0.0</td>\n",
              "      <td>0.0</td>\n",
              "      <td>0.0</td>\n",
              "      <td>0.0</td>\n",
              "      <td>0.0</td>\n",
              "      <td>0.0</td>\n",
              "      <td>0.0</td>\n",
              "      <td>0.0</td>\n",
              "      <td>0.0</td>\n",
              "      <td>0.0</td>\n",
              "    </tr>\n",
              "    <tr>\n",
              "      <th>2</th>\n",
              "      <td>1.000000</td>\n",
              "      <td>0.659459</td>\n",
              "      <td>0.186486</td>\n",
              "      <td>0.070270</td>\n",
              "      <td>0.070270</td>\n",
              "      <td>0.059459</td>\n",
              "      <td>0.056757</td>\n",
              "      <td>0.043243</td>\n",
              "      <td>0.054054</td>\n",
              "      <td>0.045946</td>\n",
              "      <td>...</td>\n",
              "      <td>0.0</td>\n",
              "      <td>0.0</td>\n",
              "      <td>0.0</td>\n",
              "      <td>0.0</td>\n",
              "      <td>0.0</td>\n",
              "      <td>0.0</td>\n",
              "      <td>0.0</td>\n",
              "      <td>0.0</td>\n",
              "      <td>0.0</td>\n",
              "      <td>0.0</td>\n",
              "    </tr>\n",
              "    <tr>\n",
              "      <th>3</th>\n",
              "      <td>0.925414</td>\n",
              "      <td>0.665746</td>\n",
              "      <td>0.541436</td>\n",
              "      <td>0.276243</td>\n",
              "      <td>0.196133</td>\n",
              "      <td>0.077348</td>\n",
              "      <td>0.071823</td>\n",
              "      <td>0.060773</td>\n",
              "      <td>0.066298</td>\n",
              "      <td>0.058011</td>\n",
              "      <td>...</td>\n",
              "      <td>0.0</td>\n",
              "      <td>0.0</td>\n",
              "      <td>0.0</td>\n",
              "      <td>0.0</td>\n",
              "      <td>0.0</td>\n",
              "      <td>0.0</td>\n",
              "      <td>0.0</td>\n",
              "      <td>0.0</td>\n",
              "      <td>0.0</td>\n",
              "      <td>0.0</td>\n",
              "    </tr>\n",
              "    <tr>\n",
              "      <th>4</th>\n",
              "      <td>0.967136</td>\n",
              "      <td>1.000000</td>\n",
              "      <td>0.830986</td>\n",
              "      <td>0.586854</td>\n",
              "      <td>0.356808</td>\n",
              "      <td>0.248826</td>\n",
              "      <td>0.145540</td>\n",
              "      <td>0.089202</td>\n",
              "      <td>0.117371</td>\n",
              "      <td>0.150235</td>\n",
              "      <td>...</td>\n",
              "      <td>0.0</td>\n",
              "      <td>0.0</td>\n",
              "      <td>0.0</td>\n",
              "      <td>0.0</td>\n",
              "      <td>0.0</td>\n",
              "      <td>0.0</td>\n",
              "      <td>0.0</td>\n",
              "      <td>0.0</td>\n",
              "      <td>0.0</td>\n",
              "      <td>0.0</td>\n",
              "    </tr>\n",
              "  </tbody>\n",
              "</table>\n",
              "<p>5 rows × 188 columns</p>\n",
              "</div>\n",
              "      <button class=\"colab-df-convert\" onclick=\"convertToInteractive('df-efa8ae72-7ff3-4f36-9ffe-c4ddaab5e57c')\"\n",
              "              title=\"Convert this dataframe to an interactive table.\"\n",
              "              style=\"display:none;\">\n",
              "        \n",
              "  <svg xmlns=\"http://www.w3.org/2000/svg\" height=\"24px\"viewBox=\"0 0 24 24\"\n",
              "       width=\"24px\">\n",
              "    <path d=\"M0 0h24v24H0V0z\" fill=\"none\"/>\n",
              "    <path d=\"M18.56 5.44l.94 2.06.94-2.06 2.06-.94-2.06-.94-.94-2.06-.94 2.06-2.06.94zm-11 1L8.5 8.5l.94-2.06 2.06-.94-2.06-.94L8.5 2.5l-.94 2.06-2.06.94zm10 10l.94 2.06.94-2.06 2.06-.94-2.06-.94-.94-2.06-.94 2.06-2.06.94z\"/><path d=\"M17.41 7.96l-1.37-1.37c-.4-.4-.92-.59-1.43-.59-.52 0-1.04.2-1.43.59L10.3 9.45l-7.72 7.72c-.78.78-.78 2.05 0 2.83L4 21.41c.39.39.9.59 1.41.59.51 0 1.02-.2 1.41-.59l7.78-7.78 2.81-2.81c.8-.78.8-2.07 0-2.86zM5.41 20L4 18.59l7.72-7.72 1.47 1.35L5.41 20z\"/>\n",
              "  </svg>\n",
              "      </button>\n",
              "      \n",
              "  <style>\n",
              "    .colab-df-container {\n",
              "      display:flex;\n",
              "      flex-wrap:wrap;\n",
              "      gap: 12px;\n",
              "    }\n",
              "\n",
              "    .colab-df-convert {\n",
              "      background-color: #E8F0FE;\n",
              "      border: none;\n",
              "      border-radius: 50%;\n",
              "      cursor: pointer;\n",
              "      display: none;\n",
              "      fill: #1967D2;\n",
              "      height: 32px;\n",
              "      padding: 0 0 0 0;\n",
              "      width: 32px;\n",
              "    }\n",
              "\n",
              "    .colab-df-convert:hover {\n",
              "      background-color: #E2EBFA;\n",
              "      box-shadow: 0px 1px 2px rgba(60, 64, 67, 0.3), 0px 1px 3px 1px rgba(60, 64, 67, 0.15);\n",
              "      fill: #174EA6;\n",
              "    }\n",
              "\n",
              "    [theme=dark] .colab-df-convert {\n",
              "      background-color: #3B4455;\n",
              "      fill: #D2E3FC;\n",
              "    }\n",
              "\n",
              "    [theme=dark] .colab-df-convert:hover {\n",
              "      background-color: #434B5C;\n",
              "      box-shadow: 0px 1px 3px 1px rgba(0, 0, 0, 0.15);\n",
              "      filter: drop-shadow(0px 1px 2px rgba(0, 0, 0, 0.3));\n",
              "      fill: #FFFFFF;\n",
              "    }\n",
              "  </style>\n",
              "\n",
              "      <script>\n",
              "        const buttonEl =\n",
              "          document.querySelector('#df-efa8ae72-7ff3-4f36-9ffe-c4ddaab5e57c button.colab-df-convert');\n",
              "        buttonEl.style.display =\n",
              "          google.colab.kernel.accessAllowed ? 'block' : 'none';\n",
              "\n",
              "        async function convertToInteractive(key) {\n",
              "          const element = document.querySelector('#df-efa8ae72-7ff3-4f36-9ffe-c4ddaab5e57c');\n",
              "          const dataTable =\n",
              "            await google.colab.kernel.invokeFunction('convertToInteractive',\n",
              "                                                     [key], {});\n",
              "          if (!dataTable) return;\n",
              "\n",
              "          const docLinkHtml = 'Like what you see? Visit the ' +\n",
              "            '<a target=\"_blank\" href=https://colab.research.google.com/notebooks/data_table.ipynb>data table notebook</a>'\n",
              "            + ' to learn more about interactive tables.';\n",
              "          element.innerHTML = '';\n",
              "          dataTable['output_type'] = 'display_data';\n",
              "          await google.colab.output.renderOutput(dataTable, element);\n",
              "          const docLink = document.createElement('div');\n",
              "          docLink.innerHTML = docLinkHtml;\n",
              "          element.appendChild(docLink);\n",
              "        }\n",
              "      </script>\n",
              "    </div>\n",
              "  </div>\n",
              "  "
            ]
          },
          "metadata": {},
          "execution_count": 17
        }
      ],
      "source": [
        "data.head()"
      ]
    },
    {
      "cell_type": "markdown",
      "metadata": {
        "id": "Wwr3N3176bb2"
      },
      "source": [
        "This is today's dataset. This time, each column represents an electrocardiogram reading (collected at 125Hz). If in total there are 187 readings, in these columns we have about a second and a half of keystrokes. **The last column contains the category to which these keystrokes belong**. In total there are five, each represented by a number:\n",
        "\n",
        "- Normal: 0\n",
        "- Premature arrhythmia (atrial, aberrant-atrial, nodal or supra-ventricular) : 1\n",
        "- Ventricular premature contraction or ventricular escape: 2\n",
        "- Fusion of ventricular and normal contraction: 3\n",
        "- Resuscitation, fusion of normal and resuscitation or unclassifiable: 4\n"
      ]
    },
    {
      "cell_type": "markdown",
      "metadata": {
        "id": "UUkGteqK6bb3"
      },
      "source": [
        "Provide a summary statistics of the dataset"
      ]
    },
    {
      "cell_type": "code",
      "execution_count": null,
      "metadata": {
        "colab": {
          "base_uri": "https://localhost:8080/",
          "height": 393
        },
        "id": "btvb469c6bb3",
        "outputId": "ac3edabc-0ef9-41dc-9b33-789418530680"
      },
      "outputs": [
        {
          "output_type": "execute_result",
          "data": {
            "text/plain": [
              "                0             1             2             3             4    \\\n",
              "count  87554.000000  87554.000000  87554.000000  87554.000000  87554.000000   \n",
              "mean       0.890360      0.758160      0.423972      0.219104      0.201127   \n",
              "std        0.240909      0.221813      0.227305      0.206878      0.177058   \n",
              "min        0.000000      0.000000      0.000000      0.000000      0.000000   \n",
              "25%        0.921922      0.682486      0.250969      0.048458      0.082329   \n",
              "50%        0.991342      0.826013      0.429472      0.166000      0.147878   \n",
              "75%        1.000000      0.910506      0.578767      0.341727      0.258993   \n",
              "max        1.000000      1.000000      1.000000      1.000000      1.000000   \n",
              "\n",
              "                5             6             7             8             9    \\\n",
              "count  87554.000000  87554.000000  87554.000000  87554.000000  87554.000000   \n",
              "mean       0.210399      0.205808      0.201773      0.198691      0.196757   \n",
              "std        0.171909      0.178481      0.177240      0.171778      0.168357   \n",
              "min        0.000000      0.000000      0.000000      0.000000      0.000000   \n",
              "25%        0.088416      0.073333      0.066116      0.065000      0.068639   \n",
              "50%        0.158798      0.145324      0.144424      0.150000      0.148734   \n",
              "75%        0.287628      0.298237      0.295391      0.290832      0.283636   \n",
              "max        1.000000      1.000000      1.000000      1.000000      1.000000   \n",
              "\n",
              "       ...           178           179           180           181  \\\n",
              "count  ...  87554.000000  87554.000000  87554.000000  87554.000000   \n",
              "mean   ...      0.005025      0.004628      0.004291      0.003945   \n",
              "std    ...      0.044154      0.042089      0.040525      0.038651   \n",
              "min    ...      0.000000      0.000000      0.000000      0.000000   \n",
              "25%    ...      0.000000      0.000000      0.000000      0.000000   \n",
              "50%    ...      0.000000      0.000000      0.000000      0.000000   \n",
              "75%    ...      0.000000      0.000000      0.000000      0.000000   \n",
              "max    ...      1.000000      1.000000      1.000000      1.000000   \n",
              "\n",
              "                182           183           184           185           186  \\\n",
              "count  87554.000000  87554.000000  87554.000000  87554.000000  87554.000000   \n",
              "mean       0.003681      0.003471      0.003221      0.002945      0.002807   \n",
              "std        0.037193      0.036255      0.034789      0.032865      0.031924   \n",
              "min        0.000000      0.000000      0.000000      0.000000      0.000000   \n",
              "25%        0.000000      0.000000      0.000000      0.000000      0.000000   \n",
              "50%        0.000000      0.000000      0.000000      0.000000      0.000000   \n",
              "75%        0.000000      0.000000      0.000000      0.000000      0.000000   \n",
              "max        1.000000      1.000000      1.000000      1.000000      1.000000   \n",
              "\n",
              "                187  \n",
              "count  87554.000000  \n",
              "mean       0.473376  \n",
              "std        1.143184  \n",
              "min        0.000000  \n",
              "25%        0.000000  \n",
              "50%        0.000000  \n",
              "75%        0.000000  \n",
              "max        4.000000  \n",
              "\n",
              "[8 rows x 188 columns]"
            ],
            "text/html": [
              "\n",
              "  <div id=\"df-9d5d16c0-48d3-41ea-898d-7d0944b7b9fb\">\n",
              "    <div class=\"colab-df-container\">\n",
              "      <div>\n",
              "<style scoped>\n",
              "    .dataframe tbody tr th:only-of-type {\n",
              "        vertical-align: middle;\n",
              "    }\n",
              "\n",
              "    .dataframe tbody tr th {\n",
              "        vertical-align: top;\n",
              "    }\n",
              "\n",
              "    .dataframe thead th {\n",
              "        text-align: right;\n",
              "    }\n",
              "</style>\n",
              "<table border=\"1\" class=\"dataframe\">\n",
              "  <thead>\n",
              "    <tr style=\"text-align: right;\">\n",
              "      <th></th>\n",
              "      <th>0</th>\n",
              "      <th>1</th>\n",
              "      <th>2</th>\n",
              "      <th>3</th>\n",
              "      <th>4</th>\n",
              "      <th>5</th>\n",
              "      <th>6</th>\n",
              "      <th>7</th>\n",
              "      <th>8</th>\n",
              "      <th>9</th>\n",
              "      <th>...</th>\n",
              "      <th>178</th>\n",
              "      <th>179</th>\n",
              "      <th>180</th>\n",
              "      <th>181</th>\n",
              "      <th>182</th>\n",
              "      <th>183</th>\n",
              "      <th>184</th>\n",
              "      <th>185</th>\n",
              "      <th>186</th>\n",
              "      <th>187</th>\n",
              "    </tr>\n",
              "  </thead>\n",
              "  <tbody>\n",
              "    <tr>\n",
              "      <th>count</th>\n",
              "      <td>87554.000000</td>\n",
              "      <td>87554.000000</td>\n",
              "      <td>87554.000000</td>\n",
              "      <td>87554.000000</td>\n",
              "      <td>87554.000000</td>\n",
              "      <td>87554.000000</td>\n",
              "      <td>87554.000000</td>\n",
              "      <td>87554.000000</td>\n",
              "      <td>87554.000000</td>\n",
              "      <td>87554.000000</td>\n",
              "      <td>...</td>\n",
              "      <td>87554.000000</td>\n",
              "      <td>87554.000000</td>\n",
              "      <td>87554.000000</td>\n",
              "      <td>87554.000000</td>\n",
              "      <td>87554.000000</td>\n",
              "      <td>87554.000000</td>\n",
              "      <td>87554.000000</td>\n",
              "      <td>87554.000000</td>\n",
              "      <td>87554.000000</td>\n",
              "      <td>87554.000000</td>\n",
              "    </tr>\n",
              "    <tr>\n",
              "      <th>mean</th>\n",
              "      <td>0.890360</td>\n",
              "      <td>0.758160</td>\n",
              "      <td>0.423972</td>\n",
              "      <td>0.219104</td>\n",
              "      <td>0.201127</td>\n",
              "      <td>0.210399</td>\n",
              "      <td>0.205808</td>\n",
              "      <td>0.201773</td>\n",
              "      <td>0.198691</td>\n",
              "      <td>0.196757</td>\n",
              "      <td>...</td>\n",
              "      <td>0.005025</td>\n",
              "      <td>0.004628</td>\n",
              "      <td>0.004291</td>\n",
              "      <td>0.003945</td>\n",
              "      <td>0.003681</td>\n",
              "      <td>0.003471</td>\n",
              "      <td>0.003221</td>\n",
              "      <td>0.002945</td>\n",
              "      <td>0.002807</td>\n",
              "      <td>0.473376</td>\n",
              "    </tr>\n",
              "    <tr>\n",
              "      <th>std</th>\n",
              "      <td>0.240909</td>\n",
              "      <td>0.221813</td>\n",
              "      <td>0.227305</td>\n",
              "      <td>0.206878</td>\n",
              "      <td>0.177058</td>\n",
              "      <td>0.171909</td>\n",
              "      <td>0.178481</td>\n",
              "      <td>0.177240</td>\n",
              "      <td>0.171778</td>\n",
              "      <td>0.168357</td>\n",
              "      <td>...</td>\n",
              "      <td>0.044154</td>\n",
              "      <td>0.042089</td>\n",
              "      <td>0.040525</td>\n",
              "      <td>0.038651</td>\n",
              "      <td>0.037193</td>\n",
              "      <td>0.036255</td>\n",
              "      <td>0.034789</td>\n",
              "      <td>0.032865</td>\n",
              "      <td>0.031924</td>\n",
              "      <td>1.143184</td>\n",
              "    </tr>\n",
              "    <tr>\n",
              "      <th>min</th>\n",
              "      <td>0.000000</td>\n",
              "      <td>0.000000</td>\n",
              "      <td>0.000000</td>\n",
              "      <td>0.000000</td>\n",
              "      <td>0.000000</td>\n",
              "      <td>0.000000</td>\n",
              "      <td>0.000000</td>\n",
              "      <td>0.000000</td>\n",
              "      <td>0.000000</td>\n",
              "      <td>0.000000</td>\n",
              "      <td>...</td>\n",
              "      <td>0.000000</td>\n",
              "      <td>0.000000</td>\n",
              "      <td>0.000000</td>\n",
              "      <td>0.000000</td>\n",
              "      <td>0.000000</td>\n",
              "      <td>0.000000</td>\n",
              "      <td>0.000000</td>\n",
              "      <td>0.000000</td>\n",
              "      <td>0.000000</td>\n",
              "      <td>0.000000</td>\n",
              "    </tr>\n",
              "    <tr>\n",
              "      <th>25%</th>\n",
              "      <td>0.921922</td>\n",
              "      <td>0.682486</td>\n",
              "      <td>0.250969</td>\n",
              "      <td>0.048458</td>\n",
              "      <td>0.082329</td>\n",
              "      <td>0.088416</td>\n",
              "      <td>0.073333</td>\n",
              "      <td>0.066116</td>\n",
              "      <td>0.065000</td>\n",
              "      <td>0.068639</td>\n",
              "      <td>...</td>\n",
              "      <td>0.000000</td>\n",
              "      <td>0.000000</td>\n",
              "      <td>0.000000</td>\n",
              "      <td>0.000000</td>\n",
              "      <td>0.000000</td>\n",
              "      <td>0.000000</td>\n",
              "      <td>0.000000</td>\n",
              "      <td>0.000000</td>\n",
              "      <td>0.000000</td>\n",
              "      <td>0.000000</td>\n",
              "    </tr>\n",
              "    <tr>\n",
              "      <th>50%</th>\n",
              "      <td>0.991342</td>\n",
              "      <td>0.826013</td>\n",
              "      <td>0.429472</td>\n",
              "      <td>0.166000</td>\n",
              "      <td>0.147878</td>\n",
              "      <td>0.158798</td>\n",
              "      <td>0.145324</td>\n",
              "      <td>0.144424</td>\n",
              "      <td>0.150000</td>\n",
              "      <td>0.148734</td>\n",
              "      <td>...</td>\n",
              "      <td>0.000000</td>\n",
              "      <td>0.000000</td>\n",
              "      <td>0.000000</td>\n",
              "      <td>0.000000</td>\n",
              "      <td>0.000000</td>\n",
              "      <td>0.000000</td>\n",
              "      <td>0.000000</td>\n",
              "      <td>0.000000</td>\n",
              "      <td>0.000000</td>\n",
              "      <td>0.000000</td>\n",
              "    </tr>\n",
              "    <tr>\n",
              "      <th>75%</th>\n",
              "      <td>1.000000</td>\n",
              "      <td>0.910506</td>\n",
              "      <td>0.578767</td>\n",
              "      <td>0.341727</td>\n",
              "      <td>0.258993</td>\n",
              "      <td>0.287628</td>\n",
              "      <td>0.298237</td>\n",
              "      <td>0.295391</td>\n",
              "      <td>0.290832</td>\n",
              "      <td>0.283636</td>\n",
              "      <td>...</td>\n",
              "      <td>0.000000</td>\n",
              "      <td>0.000000</td>\n",
              "      <td>0.000000</td>\n",
              "      <td>0.000000</td>\n",
              "      <td>0.000000</td>\n",
              "      <td>0.000000</td>\n",
              "      <td>0.000000</td>\n",
              "      <td>0.000000</td>\n",
              "      <td>0.000000</td>\n",
              "      <td>0.000000</td>\n",
              "    </tr>\n",
              "    <tr>\n",
              "      <th>max</th>\n",
              "      <td>1.000000</td>\n",
              "      <td>1.000000</td>\n",
              "      <td>1.000000</td>\n",
              "      <td>1.000000</td>\n",
              "      <td>1.000000</td>\n",
              "      <td>1.000000</td>\n",
              "      <td>1.000000</td>\n",
              "      <td>1.000000</td>\n",
              "      <td>1.000000</td>\n",
              "      <td>1.000000</td>\n",
              "      <td>...</td>\n",
              "      <td>1.000000</td>\n",
              "      <td>1.000000</td>\n",
              "      <td>1.000000</td>\n",
              "      <td>1.000000</td>\n",
              "      <td>1.000000</td>\n",
              "      <td>1.000000</td>\n",
              "      <td>1.000000</td>\n",
              "      <td>1.000000</td>\n",
              "      <td>1.000000</td>\n",
              "      <td>4.000000</td>\n",
              "    </tr>\n",
              "  </tbody>\n",
              "</table>\n",
              "<p>8 rows × 188 columns</p>\n",
              "</div>\n",
              "      <button class=\"colab-df-convert\" onclick=\"convertToInteractive('df-9d5d16c0-48d3-41ea-898d-7d0944b7b9fb')\"\n",
              "              title=\"Convert this dataframe to an interactive table.\"\n",
              "              style=\"display:none;\">\n",
              "        \n",
              "  <svg xmlns=\"http://www.w3.org/2000/svg\" height=\"24px\"viewBox=\"0 0 24 24\"\n",
              "       width=\"24px\">\n",
              "    <path d=\"M0 0h24v24H0V0z\" fill=\"none\"/>\n",
              "    <path d=\"M18.56 5.44l.94 2.06.94-2.06 2.06-.94-2.06-.94-.94-2.06-.94 2.06-2.06.94zm-11 1L8.5 8.5l.94-2.06 2.06-.94-2.06-.94L8.5 2.5l-.94 2.06-2.06.94zm10 10l.94 2.06.94-2.06 2.06-.94-2.06-.94-.94-2.06-.94 2.06-2.06.94z\"/><path d=\"M17.41 7.96l-1.37-1.37c-.4-.4-.92-.59-1.43-.59-.52 0-1.04.2-1.43.59L10.3 9.45l-7.72 7.72c-.78.78-.78 2.05 0 2.83L4 21.41c.39.39.9.59 1.41.59.51 0 1.02-.2 1.41-.59l7.78-7.78 2.81-2.81c.8-.78.8-2.07 0-2.86zM5.41 20L4 18.59l7.72-7.72 1.47 1.35L5.41 20z\"/>\n",
              "  </svg>\n",
              "      </button>\n",
              "      \n",
              "  <style>\n",
              "    .colab-df-container {\n",
              "      display:flex;\n",
              "      flex-wrap:wrap;\n",
              "      gap: 12px;\n",
              "    }\n",
              "\n",
              "    .colab-df-convert {\n",
              "      background-color: #E8F0FE;\n",
              "      border: none;\n",
              "      border-radius: 50%;\n",
              "      cursor: pointer;\n",
              "      display: none;\n",
              "      fill: #1967D2;\n",
              "      height: 32px;\n",
              "      padding: 0 0 0 0;\n",
              "      width: 32px;\n",
              "    }\n",
              "\n",
              "    .colab-df-convert:hover {\n",
              "      background-color: #E2EBFA;\n",
              "      box-shadow: 0px 1px 2px rgba(60, 64, 67, 0.3), 0px 1px 3px 1px rgba(60, 64, 67, 0.15);\n",
              "      fill: #174EA6;\n",
              "    }\n",
              "\n",
              "    [theme=dark] .colab-df-convert {\n",
              "      background-color: #3B4455;\n",
              "      fill: #D2E3FC;\n",
              "    }\n",
              "\n",
              "    [theme=dark] .colab-df-convert:hover {\n",
              "      background-color: #434B5C;\n",
              "      box-shadow: 0px 1px 3px 1px rgba(0, 0, 0, 0.15);\n",
              "      filter: drop-shadow(0px 1px 2px rgba(0, 0, 0, 0.3));\n",
              "      fill: #FFFFFF;\n",
              "    }\n",
              "  </style>\n",
              "\n",
              "      <script>\n",
              "        const buttonEl =\n",
              "          document.querySelector('#df-9d5d16c0-48d3-41ea-898d-7d0944b7b9fb button.colab-df-convert');\n",
              "        buttonEl.style.display =\n",
              "          google.colab.kernel.accessAllowed ? 'block' : 'none';\n",
              "\n",
              "        async function convertToInteractive(key) {\n",
              "          const element = document.querySelector('#df-9d5d16c0-48d3-41ea-898d-7d0944b7b9fb');\n",
              "          const dataTable =\n",
              "            await google.colab.kernel.invokeFunction('convertToInteractive',\n",
              "                                                     [key], {});\n",
              "          if (!dataTable) return;\n",
              "\n",
              "          const docLinkHtml = 'Like what you see? Visit the ' +\n",
              "            '<a target=\"_blank\" href=https://colab.research.google.com/notebooks/data_table.ipynb>data table notebook</a>'\n",
              "            + ' to learn more about interactive tables.';\n",
              "          element.innerHTML = '';\n",
              "          dataTable['output_type'] = 'display_data';\n",
              "          await google.colab.output.renderOutput(dataTable, element);\n",
              "          const docLink = document.createElement('div');\n",
              "          docLink.innerHTML = docLinkHtml;\n",
              "          element.appendChild(docLink);\n",
              "        }\n",
              "      </script>\n",
              "    </div>\n",
              "  </div>\n",
              "  "
            ]
          },
          "metadata": {},
          "execution_count": 18
        }
      ],
      "source": [
        "data.describe()"
      ]
    },
    {
      "cell_type": "markdown",
      "metadata": {
        "id": "YO35Yxa86bb3"
      },
      "source": [
        "Let's have a look at how this electrocardiograms look like. Show one row data in a line chart"
      ]
    },
    {
      "cell_type": "code",
      "execution_count": null,
      "metadata": {
        "scrolled": true,
        "colab": {
          "base_uri": "https://localhost:8080/",
          "height": 283
        },
        "id": "pLFqh4wl6bb3",
        "outputId": "b0ce3578-be0c-45b8-ed73-aa16e1bd5449"
      },
      "outputs": [
        {
          "output_type": "execute_result",
          "data": {
            "text/plain": [
              "[<matplotlib.lines.Line2D at 0x7eff9593d2d0>]"
            ]
          },
          "metadata": {},
          "execution_count": 19
        },
        {
          "output_type": "display_data",
          "data": {
            "text/plain": [
              "<Figure size 432x288 with 1 Axes>"
            ],
            "image/png": "[encoded data removed]"
          },
          "metadata": {
            "needs_background": "light"
          }
        }
      ],
      "source": [
        "plt.plot(data.iloc[5])"
      ]
    },
    {
      "cell_type": "markdown",
      "metadata": {
        "id": "EmhWomL_6bb4"
      },
      "source": [
        "Now that we've visualized our data, let's work with it. First we have to divide them between input and output.\n",
        "\n",
        "Divide the dataset into two: one part containing all the columns with electrocardiogram data and another with the labels. Converting the dataset to a Numpy array makes it easier because you can use slicing."
      ]
    },
    {
      "cell_type": "code",
      "execution_count": null,
      "metadata": {
        "id": "nGASnNys6bb4"
      },
      "outputs": [],
      "source": [
        "M = data.values\n",
        "X = data.iloc[:,0:187].values\n",
        "y = data.iloc[:,187].values"
      ]
    },
    {
      "cell_type": "markdown",
      "metadata": {
        "id": "iHibDhMa6bb5"
      },
      "source": [
        "Create arrays with the indices of the examples that belong to each category. The [np.argwhere](https://docs.scipy.org/doc/numpy/reference/generated/numpy.argwhere.html) function comes in handy here."
      ]
    },
    {
      "cell_type": "code",
      "execution_count": null,
      "metadata": {
        "id": "B_G6TBuQ6bb5"
      },
      "outputs": [],
      "source": [
        "C0 = np.argwhere(y == 0).flatten()\n",
        "C1 = np.argwhere(y == 1).flatten()\n",
        "C2 = np.argwhere(y == 2).flatten()\n",
        "C3 = np.argwhere(y == 3).flatten()\n",
        "C4 = np.argwhere(y == 4).flatten()"
      ]
    },
    {
      "cell_type": "markdown",
      "metadata": {
        "id": "Qx_P6NVt6bb5"
      },
      "source": [
        "How many examples are for each category? Try to get that in 4 lines of code"
      ]
    },
    {
      "cell_type": "code",
      "execution_count": null,
      "metadata": {
        "scrolled": true,
        "colab": {
          "base_uri": "https://localhost:8080/"
        },
        "id": "y5goc8Pq6bb5",
        "outputId": "d3ab5192-2b8e-4405-fadb-65ca110e89f8"
      },
      "outputs": [
        {
          "output_type": "stream",
          "name": "stdout",
          "text": [
            "There are 72471 points of the category N\n",
            "There are 2223 points of the category S\n",
            "There are 5788 points of the category V\n",
            "There are 641 points of the category F\n",
            "There are 6431 points of the category Q\n"
          ]
        }
      ],
      "source": [
        "u = {'N': C0, 'S': C1, 'V': C2, 'F': C3, 'Q': C4}\n",
        "\n",
        "www = []\n",
        "for k in u:\n",
        "    print('There are {} points of the category {}'.format(len(u[k]), k))\n",
        "    www.append(len(u[k]))"
      ]
    },
    {
      "cell_type": "markdown",
      "metadata": {
        "id": "L6XX7JzE6bb6"
      },
      "source": [
        "To better see how many of each type we have, we are going to make a bar graph. Use [plt.bar](https://matplotlib.org/3.1.1/api/_as_gen/matplotlib.pyplot.bar.html) with an appropriate label for each bar."
      ]
    },
    {
      "cell_type": "code",
      "execution_count": null,
      "metadata": {
        "colab": {
          "base_uri": "https://localhost:8080/",
          "height": 283
        },
        "id": "31qQJVXR6bb6",
        "outputId": "96c6d5b6-06f7-4cc6-9012-cec62fc9e3b7"
      },
      "outputs": [
        {
          "output_type": "execute_result",
          "data": {
            "text/plain": [
              "<BarContainer object of 5 artists>"
            ]
          },
          "metadata": {},
          "execution_count": 23
        },
        {
          "output_type": "display_data",
          "data": {
            "text/plain": [
              "<Figure size 432x288 with 1 Axes>"
            ],
            "image/png": "[encoded data removed]"
          },
          "metadata": {
            "needs_background": "light"
          }
        }
      ],
      "source": [
        "labels = list(u.keys())\n",
        "plt.bar(labels, www)"
      ]
    },
    {
      "cell_type": "markdown",
      "metadata": {
        "id": "fQ0jG8er6bb6"
      },
      "source": [
        "Finally, we are going to compare ECGs of one type to another with another graph. Draw one ECG of each type, one on top of the other. Bonus points for putting a title and caption on it! 😬"
      ]
    },
    {
      "cell_type": "code",
      "execution_count": null,
      "metadata": {
        "colab": {
          "base_uri": "https://localhost:8080/",
          "height": 517
        },
        "id": "GFCHTL9T6bb6",
        "outputId": "e3019f49-2349-4216-fe11-67b1b271067e"
      },
      "outputs": [
        {
          "output_type": "execute_result",
          "data": {
            "text/plain": [
              "Text(0.5, 1.0, 'Different classes')"
            ]
          },
          "metadata": {},
          "execution_count": 24
        },
        {
          "output_type": "display_data",
          "data": {
            "text/plain": [
              "<Figure size 1080x576 with 1 Axes>"
            ],
            "image/png": "[encoded data removed]"
          },
          "metadata": {
            "needs_background": "light"
          }
        }
      ],
      "source": [
        "plt.figure(figsize=(15,8))\n",
        "plt.plot(M[C0[20]], label='N')\n",
        "plt.plot(M[C1[20]], label='S')\n",
        "plt.plot(M[C2[10]], label='V')\n",
        "plt.legend()\n",
        "plt.title('Different classes')"
      ]
    },
    {
      "cell_type": "markdown",
      "metadata": {
        "id": "9tQs1fJ96bb7"
      },
      "source": [
        "## Let's prepare the data for the NN"
      ]
    },
    {
      "cell_type": "markdown",
      "metadata": {
        "id": "e6udUehx6bb7"
      },
      "source": [
        "As you already know, the best way to deal with categories is to use a OneHotEncoding. Transform Y to its OneHotEncoding. Remember that you will need to state the number of columns to be created based on the number of categories existing.\n",
        "\n",
        "Hint: [to_categorical](https://www.tensorflow.org/api_docs/python/tf/keras/utils/to_categorical)"
      ]
    },
    {
      "cell_type": "code",
      "execution_count": null,
      "metadata": {
        "id": "ielHkU-B6bb7"
      },
      "outputs": [],
      "source": [
        "from tensorflow.keras.datasets import fashion_mnist\n",
        "from tensorflow.keras.models import Sequential\n",
        "from tensorflow.keras.layers import Dense\n",
        "from tensorflow.keras.utils import to_categorical\n",
        "\n",
        "y_Hot = to_categorical(y, num_classes = 5)"
      ]
    },
    {
      "cell_type": "markdown",
      "metadata": {
        "id": "2ZSIXnTn6bb7"
      },
      "source": [
        "Check that the OneHotEncoding has worked, that is, that for each column in the original Y 5 have been created, and that the values of the original and the OneHotEncoding correspond to each other."
      ]
    },
    {
      "cell_type": "code",
      "execution_count": null,
      "metadata": {
        "colab": {
          "base_uri": "https://localhost:8080/"
        },
        "id": "Dt2ztlqx6bb7",
        "outputId": "fb2ba69a-0c14-4665-9c07-82ab525ecfe9"
      },
      "outputs": [
        {
          "output_type": "stream",
          "name": "stdout",
          "text": [
            "(87554,)\n",
            "(87554, 5)\n",
            "0.0\n",
            "[1. 0. 0. 0. 0.]\n"
          ]
        }
      ],
      "source": [
        "print(y.shape)\n",
        "print(y_Hot.shape)\n",
        "print(y[20000])\n",
        "print(y_Hot[20000])"
      ]
    },
    {
      "cell_type": "markdown",
      "metadata": {
        "id": "45xOoreZ6bb7"
      },
      "source": [
        "Shuffle X and Y randomly (so that the tags still refer to the original examples, use [shuffle](https://scikit-learn.org/stable/modules/generated/sklearn.utils.shuffle.html)."
      ]
    },
    {
      "cell_type": "code",
      "execution_count": null,
      "metadata": {
        "id": "nIHJuxyJ6bb7"
      },
      "outputs": [],
      "source": [
        "from sklearn.utils import shuffle\n",
        "\n",
        "X_shuffled, y_shuffled = shuffle(X, y_Hot)"
      ]
    },
    {
      "cell_type": "markdown",
      "metadata": {
        "id": "KaKm-4QZ6bb7"
      },
      "source": [
        "Check that they have the same shape"
      ]
    },
    {
      "cell_type": "code",
      "execution_count": null,
      "metadata": {
        "id": "FJldLHuW6bb8"
      },
      "outputs": [],
      "source": [
        "assert X_shuffled.shape == X.shape\n",
        "assert y_shuffled.shape == y_Hot.shape"
      ]
    },
    {
      "cell_type": "markdown",
      "metadata": {
        "id": "P7rDv80K6bb8"
      },
      "source": [
        "As an non-mandatory thing here, we can free up some memory by deleting the features we won't be using: X & y_Hot"
      ]
    },
    {
      "cell_type": "code",
      "execution_count": null,
      "metadata": {
        "id": "qoltMEEq6bb8"
      },
      "outputs": [],
      "source": [
        "del X\n",
        "del y_Hot"
      ]
    },
    {
      "cell_type": "markdown",
      "metadata": {
        "id": "sqpFcId96bb8"
      },
      "source": [
        "# Preparing the data for the NN:\n",
        "\n",
        "To be able to enter the data in the model, we need each information point to be only inside the array (we cannot give an array as a value). Before we had the data structured like this:\n",
        "\n",
        "\n",
        "$ X = [[a_1,a_2,a_3...,a_n],[b_1,b_2,b_3...,b_n]...[z_1,z_2,z_3,z_n] $\n",
        "\n",
        "\n",
        "In order to use them we need to isolate each of these values, without eliminating their grouping for examples. See:\n",
        "\n",
        "$ X = [[[a_1],[a_2],[a_3]...,[a_n]],[[b_1],[b_2],[b_3]...,[b_n]]...[[z_1],[z_2],[z_3],[z_n]] $\n",
        "\n",
        "This is achieved using numpy's [expand_dims](https://docs.scipy.org/doc/numpy/reference/generated/numpy.expand_dims.html) function."
      ]
    },
    {
      "cell_type": "code",
      "execution_count": null,
      "metadata": {
        "id": "tqoI5jgW6bb8"
      },
      "outputs": [],
      "source": [
        "X = np.expand_dims(X_shuffled, 2)"
      ]
    },
    {
      "cell_type": "markdown",
      "metadata": {
        "id": "rjxDgrPN6bb8"
      },
      "source": [
        "We're almost there! We only have to do a **train_test_split** and everything would be ready to implement the model."
      ]
    },
    {
      "cell_type": "code",
      "execution_count": null,
      "metadata": {
        "id": "1rT6m2696bb8"
      },
      "outputs": [],
      "source": [
        "from sklearn.model_selection import train_test_split\n",
        "#One line of code\n",
        "X_train, X_test, y_train, y_test = train_test_split(X, y_shuffled, test_size=0.2)"
      ]
    },
    {
      "cell_type": "markdown",
      "metadata": {
        "id": "u1svWIBI6bb9"
      },
      "source": [
        "## Models"
      ]
    },
    {
      "cell_type": "markdown",
      "metadata": {
        "id": "vE7VlKGn6bb9"
      },
      "source": [
        "In this part of the challenge we present you with a model that has already been created so that you can see how it works and play around with the different parameters."
      ]
    },
    {
      "cell_type": "markdown",
      "metadata": {
        "id": "NCPAhGwp6bb9"
      },
      "source": [
        "First we import a few (only a few?😬) libraries to set up the model:"
      ]
    },
    {
      "cell_type": "code",
      "execution_count": null,
      "metadata": {
        "id": "dEPa0GoT6bb9"
      },
      "outputs": [],
      "source": [
        "from sklearn import model_selection\n",
        "from sklearn.metrics import confusion_matrix\n",
        "\n",
        "import keras\n",
        "from keras.layers import Dense, Dropout, Activation, Flatten, Conv1D, Conv2D, MaxPooling1D, MaxPooling2D, Lambda, MaxPool2D, BatchNormalization\n",
        "from keras.utils import np_utils\n",
        "\n",
        "from keras import models, layers, optimizers\n",
        "from sklearn.model_selection import train_test_split\n",
        "from sklearn.metrics import confusion_matrix, accuracy_score\n",
        "from sklearn.utils import class_weight\n",
        "\n",
        "from tensorflow.keras.optimizers import SGD, RMSprop, Adam, Adagrad, Adadelta, RMSprop\n",
        "from keras.models import Sequential, model_from_json\n",
        "from keras.preprocessing.image import ImageDataGenerator\n",
        "from keras.callbacks import ReduceLROnPlateau, ModelCheckpoint\n",
        "from keras import backend as K\n",
        "from keras.applications.vgg16 import VGG16\n",
        "from keras.models import Model\n",
        "\n",
        "from sklearn.metrics import accuracy_score, classification_report, confusion_matrix, label_ranking_average_precision_score, label_ranking_loss, coverage_error \n",
        "import itertools"
      ]
    },
    {
      "cell_type": "markdown",
      "metadata": {
        "id": "rRdNMdtf6bb9"
      },
      "source": [
        "What is the length of the input? (This will be the number of neurons we will have in the first layer.) How many neurons will we have in our last layer? We also need a batch_size if we want to train the neural network with SGD."
      ]
    },
    {
      "cell_type": "code",
      "execution_count": null,
      "metadata": {
        "id": "HQ_PkdKO6bb9"
      },
      "outputs": [],
      "source": [
        "signal_length = 187\n",
        "batch_size = 1024\n",
        "n_classes = 5"
      ]
    },
    {
      "cell_type": "markdown",
      "metadata": {
        "id": "jBSTsl4P6bb9"
      },
      "source": [
        "This is the neural network model. \n",
        "\n",
        "It has four layers, two of them hidden, and uses ReLU, sigmoid and softmax as activation functions. \n",
        "\n",
        "We will be using the **Squential** model. This is the simplest and most important way to define a NN that Keras has. It means that our NN is defined as a series of steps. This is typically appropiate for a plain stack of layers where each layer has exactly one input sensor and one output sensor.\n",
        "\n",
        "For each of the layers of our NN, we need to define:\n",
        "*   Conv1D\n",
        "*   kernel_size\n",
        "*   dropout\n",
        "*   BatchNormalization\n",
        "*  Activation function\n",
        "*  MaxPooling1D\n",
        "\n"
      ]
    },
    {
      "cell_type": "code",
      "execution_count": null,
      "metadata": {
        "colab": {
          "base_uri": "https://localhost:8080/"
        },
        "id": "8oXP0LeJ6bb9",
        "outputId": "10b3eb1f-176a-45e8-f962-78962afb3c3f"
      },
      "outputs": [
        {
          "output_type": "stream",
          "name": "stdout",
          "text": [
            "Model: \"sequential_2\"\n",
            "_________________________________________________________________\n",
            " Layer (type)                Output Shape              Param #   \n",
            "=================================================================\n",
            " conv1d_8 (Conv1D)           (None, 183, 32)           192       \n",
            "                                                                 \n",
            " dropout_10 (Dropout)        (None, 183, 32)           0         \n",
            "                                                                 \n",
            " batch_normalization_8 (Batc  (None, 183, 32)          128       \n",
            " hNormalization)                                                 \n",
            "                                                                 \n",
            " activation_8 (Activation)   (None, 183, 32)           0         \n",
            "                                                                 \n",
            " conv1d_9 (Conv1D)           (None, 180, 32)           4128      \n",
            "                                                                 \n",
            " dropout_11 (Dropout)        (None, 180, 32)           0         \n",
            "                                                                 \n",
            " batch_normalization_9 (Batc  (None, 180, 32)          128       \n",
            " hNormalization)                                                 \n",
            "                                                                 \n",
            " activation_9 (Activation)   (None, 180, 32)           0         \n",
            "                                                                 \n",
            " max_pooling1d_6 (MaxPooling  (None, 90, 32)           0         \n",
            " 1D)                                                             \n",
            "                                                                 \n",
            " conv1d_10 (Conv1D)          (None, 87, 32)            4128      \n",
            "                                                                 \n",
            " dropout_12 (Dropout)        (None, 87, 32)            0         \n",
            "                                                                 \n",
            " batch_normalization_10 (Bat  (None, 87, 32)           128       \n",
            " chNormalization)                                                \n",
            "                                                                 \n",
            " activation_10 (Activation)  (None, 87, 32)            0         \n",
            "                                                                 \n",
            " max_pooling1d_7 (MaxPooling  (None, 43, 32)           0         \n",
            " 1D)                                                             \n",
            "                                                                 \n",
            " conv1d_11 (Conv1D)          (None, 40, 32)            4128      \n",
            "                                                                 \n",
            " dropout_13 (Dropout)        (None, 40, 32)            0         \n",
            "                                                                 \n",
            " batch_normalization_11 (Bat  (None, 40, 32)           128       \n",
            " chNormalization)                                                \n",
            "                                                                 \n",
            " activation_11 (Activation)  (None, 40, 32)            0         \n",
            "                                                                 \n",
            " max_pooling1d_8 (MaxPooling  (None, 20, 32)           0         \n",
            " 1D)                                                             \n",
            "                                                                 \n",
            " flatten_2 (Flatten)         (None, 640)               0         \n",
            "                                                                 \n",
            " dense_4 (Dense)             (None, 128)               82048     \n",
            "                                                                 \n",
            " dropout_14 (Dropout)        (None, 128)               0         \n",
            "                                                                 \n",
            " dense_5 (Dense)             (None, 5)                 645       \n",
            "                                                                 \n",
            "=================================================================\n",
            "Total params: 95,781\n",
            "Trainable params: 95,525\n",
            "Non-trainable params: 256\n",
            "_________________________________________________________________\n"
          ]
        }
      ],
      "source": [
        "model = Sequential() #The way we will create our NN\n",
        "\n",
        "model.add(Conv1D(32, kernel_size=(5), input_shape=(signal_length, 1))) #1st step in our NN: flatting our data based on the size of the input. Here, this is the signal length.\n",
        "model.add(Dropout(0.5)) \n",
        "model.add(BatchNormalization()) \n",
        "model.add(Activation('relu')) #what's the activation function?\n",
        "\n",
        "model.add(Conv1D(32, (4))) #we will be creating a convolution of 1 dimension\n",
        "model.add(Dropout(0.5)) \n",
        "model.add(BatchNormalization())\n",
        "model.add(Activation('relu')) \n",
        "model.add(MaxPooling1D(pool_size=(2)))\n",
        "\n",
        "model.add(Conv1D(32, (4)))\n",
        "model.add(Dropout(0.5))\n",
        "model.add(BatchNormalization())\n",
        "model.add(Activation('relu'))\n",
        "model.add(MaxPooling1D(pool_size=(2)))\n",
        "\n",
        "model.add(Conv1D(32, (4)))\n",
        "model.add(Dropout(0.5))\n",
        "model.add(BatchNormalization())\n",
        "model.add(Activation('relu'))\n",
        "model.add(MaxPooling1D(pool_size=(2)))\n",
        "\n",
        "model.add(Flatten())\n",
        "\n",
        "model.add(Dense(128, activation='sigmoid'))\n",
        "model.add(Dropout(0.5))\n",
        "model.add(Dense(n_classes, activation='softmax'))\n",
        "\n",
        "\n",
        "model.summary()\n",
        "model.compile(loss=keras.losses.categorical_crossentropy, \n",
        "              optimizer=Adadelta(),metrics=['accuracy'])\n"
      ]
    },
    {
      "cell_type": "markdown",
      "metadata": {
        "id": "ucz5edE56bb-"
      },
      "source": [
        "To compile the model, .compile() is called. Here we specify which loss function we use, which optimizer and which metrics we want to keep for each epoch.\n",
        "\n",
        "We could have chosen other loss functions like MSE or Log Loss. Check out the definition of Loss functions and the different alternatives [here](https://towardsdatascience.com/what-is-loss-function-1e2605aeb904)"
      ]
    },
    {
      "cell_type": "code",
      "execution_count": null,
      "metadata": {
        "id": "ygAvnSWb6bb-"
      },
      "outputs": [],
      "source": [
        "model.compile(loss='categorical_crossentropy', optimizer=Adam(), metrics=['accuracy']) "
      ]
    },
    {
      "cell_type": "markdown",
      "metadata": {
        "id": "Og9HDLB76bb-"
      },
      "source": [
        "Now we **train the model** a number of epochs and with a specified batch_size. This returns us a history object with the accuracy of all the training phases. Remember:\n",
        "\n",
        "*  epoch — represents the number of loops you go through your training set.\n",
        "*  batch_size -represents the size of your training sample used to train the network during its learning process.\n",
        "\n",
        "\n"
      ]
    },
    {
      "cell_type": "code",
      "execution_count": null,
      "metadata": {
        "colab": {
          "base_uri": "https://localhost:8080/"
        },
        "id": "ndogpHsJ6bb-",
        "outputId": "066496af-da80-4d55-d4a2-c985166223cf"
      },
      "outputs": [
        {
          "output_type": "stream",
          "name": "stdout",
          "text": [
            "Epoch 1/75\n",
            "69/69 [==============================] - 45s 592ms/step - loss: 0.7308 - accuracy: 0.8016 - val_loss: 0.7624 - val_accuracy: 0.8249\n",
            "Epoch 2/75\n",
            "69/69 [==============================] - 38s 558ms/step - loss: 0.4620 - accuracy: 0.8644 - val_loss: 0.8316 - val_accuracy: 0.8249\n",
            "Epoch 3/75\n",
            "69/69 [==============================] - 39s 568ms/step - loss: 0.3407 - accuracy: 0.9045 - val_loss: 0.8279 - val_accuracy: 0.8249\n",
            "Epoch 4/75\n",
            "69/69 [==============================] - 40s 575ms/step - loss: 0.2941 - accuracy: 0.9183 - val_loss: 0.8833 - val_accuracy: 0.8209\n",
            "Epoch 5/75\n",
            "69/69 [==============================] - 39s 565ms/step - loss: 0.2677 - accuracy: 0.9276 - val_loss: 0.9346 - val_accuracy: 0.8203\n",
            "Epoch 6/75\n",
            "69/69 [==============================] - 39s 563ms/step - loss: 0.2484 - accuracy: 0.9323 - val_loss: 0.9196 - val_accuracy: 0.8082\n",
            "Epoch 7/75\n",
            "69/69 [==============================] - 39s 560ms/step - loss: 0.2362 - accuracy: 0.9366 - val_loss: 0.7689 - val_accuracy: 0.8286\n",
            "Epoch 8/75\n",
            "69/69 [==============================] - 39s 560ms/step - loss: 0.2230 - accuracy: 0.9400 - val_loss: 0.6432 - val_accuracy: 0.8783\n",
            "Epoch 9/75\n",
            "69/69 [==============================] - 38s 557ms/step - loss: 0.2147 - accuracy: 0.9416 - val_loss: 0.4275 - val_accuracy: 0.9232\n",
            "Epoch 10/75\n",
            "69/69 [==============================] - 38s 557ms/step - loss: 0.2043 - accuracy: 0.9447 - val_loss: 0.3252 - val_accuracy: 0.9342\n",
            "Epoch 11/75\n",
            "69/69 [==============================] - 40s 581ms/step - loss: 0.1950 - accuracy: 0.9466 - val_loss: 0.2968 - val_accuracy: 0.9404\n",
            "Epoch 12/75\n",
            "69/69 [==============================] - 38s 557ms/step - loss: 0.1850 - accuracy: 0.9489 - val_loss: 0.2608 - val_accuracy: 0.9427\n",
            "Epoch 13/75\n",
            "69/69 [==============================] - 39s 560ms/step - loss: 0.1806 - accuracy: 0.9505 - val_loss: 0.2856 - val_accuracy: 0.9361\n",
            "Epoch 14/75\n",
            "69/69 [==============================] - 38s 558ms/step - loss: 0.1766 - accuracy: 0.9516 - val_loss: 0.2515 - val_accuracy: 0.9407\n",
            "Epoch 15/75\n",
            "69/69 [==============================] - 38s 557ms/step - loss: 0.1719 - accuracy: 0.9523 - val_loss: 0.2108 - val_accuracy: 0.9488\n",
            "Epoch 16/75\n",
            "69/69 [==============================] - 38s 558ms/step - loss: 0.1622 - accuracy: 0.9554 - val_loss: 0.2058 - val_accuracy: 0.9476\n",
            "Epoch 17/75\n",
            "69/69 [==============================] - 38s 557ms/step - loss: 0.1611 - accuracy: 0.9558 - val_loss: 0.1816 - val_accuracy: 0.9536\n",
            "Epoch 18/75\n",
            "69/69 [==============================] - 38s 557ms/step - loss: 0.1579 - accuracy: 0.9563 - val_loss: 0.1981 - val_accuracy: 0.9483\n",
            "Epoch 19/75\n",
            "69/69 [==============================] - 39s 560ms/step - loss: 0.1535 - accuracy: 0.9570 - val_loss: 0.1779 - val_accuracy: 0.9529\n",
            "Epoch 20/75\n",
            "69/69 [==============================] - 39s 558ms/step - loss: 0.1518 - accuracy: 0.9580 - val_loss: 0.1475 - val_accuracy: 0.9596\n",
            "Epoch 21/75\n",
            "69/69 [==============================] - 38s 557ms/step - loss: 0.1492 - accuracy: 0.9587 - val_loss: 0.1469 - val_accuracy: 0.9592\n",
            "Epoch 22/75\n",
            "69/69 [==============================] - 38s 557ms/step - loss: 0.1440 - accuracy: 0.9603 - val_loss: 0.1325 - val_accuracy: 0.9631\n",
            "Epoch 23/75\n",
            "69/69 [==============================] - 39s 562ms/step - loss: 0.1429 - accuracy: 0.9610 - val_loss: 0.1477 - val_accuracy: 0.9583\n",
            "Epoch 24/75\n",
            "69/69 [==============================] - 39s 558ms/step - loss: 0.1416 - accuracy: 0.9604 - val_loss: 0.1419 - val_accuracy: 0.9588\n",
            "Epoch 25/75\n",
            "69/69 [==============================] - 39s 558ms/step - loss: 0.1385 - accuracy: 0.9608 - val_loss: 0.1328 - val_accuracy: 0.9624\n",
            "Epoch 26/75\n",
            "69/69 [==============================] - 39s 559ms/step - loss: 0.1346 - accuracy: 0.9620 - val_loss: 0.1313 - val_accuracy: 0.9636\n",
            "Epoch 27/75\n",
            "69/69 [==============================] - 39s 559ms/step - loss: 0.1352 - accuracy: 0.9624 - val_loss: 0.1288 - val_accuracy: 0.9643\n",
            "Epoch 28/75\n",
            "69/69 [==============================] - 39s 560ms/step - loss: 0.1320 - accuracy: 0.9633 - val_loss: 0.1158 - val_accuracy: 0.9674\n",
            "Epoch 29/75\n",
            "69/69 [==============================] - 39s 560ms/step - loss: 0.1287 - accuracy: 0.9645 - val_loss: 0.1152 - val_accuracy: 0.9666\n",
            "Epoch 30/75\n",
            "69/69 [==============================] - 39s 559ms/step - loss: 0.1282 - accuracy: 0.9648 - val_loss: 0.1194 - val_accuracy: 0.9657\n",
            "Epoch 31/75\n",
            "69/69 [==============================] - 39s 558ms/step - loss: 0.1276 - accuracy: 0.9641 - val_loss: 0.1240 - val_accuracy: 0.9646\n",
            "Epoch 32/75\n",
            "69/69 [==============================] - 39s 560ms/step - loss: 0.1255 - accuracy: 0.9645 - val_loss: 0.1113 - val_accuracy: 0.9689\n",
            "Epoch 33/75\n",
            "69/69 [==============================] - 40s 577ms/step - loss: 0.1217 - accuracy: 0.9662 - val_loss: 0.1199 - val_accuracy: 0.9647\n",
            "Epoch 34/75\n",
            "69/69 [==============================] - 39s 561ms/step - loss: 0.1208 - accuracy: 0.9651 - val_loss: 0.1094 - val_accuracy: 0.9686\n",
            "Epoch 35/75\n",
            "69/69 [==============================] - 39s 560ms/step - loss: 0.1203 - accuracy: 0.9662 - val_loss: 0.1059 - val_accuracy: 0.9692\n",
            "Epoch 36/75\n",
            "69/69 [==============================] - 39s 560ms/step - loss: 0.1191 - accuracy: 0.9661 - val_loss: 0.1031 - val_accuracy: 0.9709\n",
            "Epoch 37/75\n",
            "69/69 [==============================] - 39s 559ms/step - loss: 0.1177 - accuracy: 0.9664 - val_loss: 0.1076 - val_accuracy: 0.9686\n",
            "Epoch 38/75\n",
            "69/69 [==============================] - 39s 561ms/step - loss: 0.1160 - accuracy: 0.9669 - val_loss: 0.1200 - val_accuracy: 0.9644\n",
            "Epoch 39/75\n",
            "69/69 [==============================] - 38s 557ms/step - loss: 0.1158 - accuracy: 0.9669 - val_loss: 0.1026 - val_accuracy: 0.9715\n",
            "Epoch 40/75\n",
            "69/69 [==============================] - 39s 559ms/step - loss: 0.1153 - accuracy: 0.9682 - val_loss: 0.0989 - val_accuracy: 0.9719\n",
            "Epoch 41/75\n",
            "69/69 [==============================] - 39s 561ms/step - loss: 0.1134 - accuracy: 0.9679 - val_loss: 0.0976 - val_accuracy: 0.9721\n",
            "Epoch 42/75\n",
            "69/69 [==============================] - 38s 558ms/step - loss: 0.1121 - accuracy: 0.9680 - val_loss: 0.0951 - val_accuracy: 0.9724\n",
            "Epoch 43/75\n",
            "69/69 [==============================] - 39s 561ms/step - loss: 0.1113 - accuracy: 0.9686 - val_loss: 0.0959 - val_accuracy: 0.9733\n",
            "Epoch 44/75\n",
            "69/69 [==============================] - 39s 559ms/step - loss: 0.1096 - accuracy: 0.9689 - val_loss: 0.1023 - val_accuracy: 0.9713\n",
            "Epoch 45/75\n",
            "69/69 [==============================] - 39s 559ms/step - loss: 0.1079 - accuracy: 0.9696 - val_loss: 0.1040 - val_accuracy: 0.9698\n",
            "Epoch 46/75\n",
            "69/69 [==============================] - 39s 561ms/step - loss: 0.1088 - accuracy: 0.9694 - val_loss: 0.0951 - val_accuracy: 0.9732\n",
            "Epoch 47/75\n",
            "69/69 [==============================] - 39s 558ms/step - loss: 0.1087 - accuracy: 0.9696 - val_loss: 0.0964 - val_accuracy: 0.9725\n",
            "Epoch 48/75\n",
            "69/69 [==============================] - 39s 559ms/step - loss: 0.1070 - accuracy: 0.9699 - val_loss: 0.0954 - val_accuracy: 0.9718\n",
            "Epoch 49/75\n",
            "69/69 [==============================] - 39s 559ms/step - loss: 0.1056 - accuracy: 0.9697 - val_loss: 0.0920 - val_accuracy: 0.9732\n",
            "Epoch 50/75\n",
            "69/69 [==============================] - 39s 558ms/step - loss: 0.1061 - accuracy: 0.9696 - val_loss: 0.0902 - val_accuracy: 0.9741\n",
            "Epoch 51/75\n",
            "69/69 [==============================] - 39s 559ms/step - loss: 0.1036 - accuracy: 0.9705 - val_loss: 0.0920 - val_accuracy: 0.9736\n",
            "Epoch 52/75\n",
            "69/69 [==============================] - 39s 559ms/step - loss: 0.1045 - accuracy: 0.9701 - val_loss: 0.1028 - val_accuracy: 0.9706\n",
            "Epoch 53/75\n",
            "69/69 [==============================] - 39s 559ms/step - loss: 0.1024 - accuracy: 0.9708 - val_loss: 0.0958 - val_accuracy: 0.9715\n",
            "Epoch 54/75\n",
            "69/69 [==============================] - 39s 565ms/step - loss: 0.1028 - accuracy: 0.9707 - val_loss: 0.0899 - val_accuracy: 0.9745\n",
            "Epoch 55/75\n",
            "69/69 [==============================] - 39s 558ms/step - loss: 0.1026 - accuracy: 0.9714 - val_loss: 0.0878 - val_accuracy: 0.9743\n",
            "Epoch 56/75\n",
            "69/69 [==============================] - 39s 562ms/step - loss: 0.1009 - accuracy: 0.9717 - val_loss: 0.0899 - val_accuracy: 0.9736\n",
            "Epoch 57/75\n",
            "69/69 [==============================] - 39s 559ms/step - loss: 0.1012 - accuracy: 0.9712 - val_loss: 0.0962 - val_accuracy: 0.9719\n",
            "Epoch 58/75\n",
            "69/69 [==============================] - 39s 560ms/step - loss: 0.1013 - accuracy: 0.9710 - val_loss: 0.0857 - val_accuracy: 0.9752\n",
            "Epoch 59/75\n",
            "69/69 [==============================] - 39s 560ms/step - loss: 0.1000 - accuracy: 0.9711 - val_loss: 0.0860 - val_accuracy: 0.9754\n",
            "Epoch 60/75\n",
            "69/69 [==============================] - 38s 558ms/step - loss: 0.0995 - accuracy: 0.9714 - val_loss: 0.0855 - val_accuracy: 0.9758\n",
            "Epoch 61/75\n",
            "69/69 [==============================] - 39s 559ms/step - loss: 0.0986 - accuracy: 0.9717 - val_loss: 0.1024 - val_accuracy: 0.9697\n",
            "Epoch 62/75\n",
            "69/69 [==============================] - 39s 561ms/step - loss: 0.0992 - accuracy: 0.9718 - val_loss: 0.0958 - val_accuracy: 0.9722\n",
            "Epoch 63/75\n",
            "69/69 [==============================] - 39s 559ms/step - loss: 0.0976 - accuracy: 0.9718 - val_loss: 0.0992 - val_accuracy: 0.9717\n",
            "Epoch 64/75\n",
            "69/69 [==============================] - 39s 563ms/step - loss: 0.0974 - accuracy: 0.9720 - val_loss: 0.0956 - val_accuracy: 0.9722\n",
            "Epoch 65/75\n",
            "69/69 [==============================] - 38s 557ms/step - loss: 0.0973 - accuracy: 0.9719 - val_loss: 0.0852 - val_accuracy: 0.9762\n",
            "Epoch 66/75\n",
            "69/69 [==============================] - 39s 559ms/step - loss: 0.0965 - accuracy: 0.9725 - val_loss: 0.0971 - val_accuracy: 0.9712\n",
            "Epoch 67/75\n",
            "69/69 [==============================] - 39s 560ms/step - loss: 0.0952 - accuracy: 0.9725 - val_loss: 0.0828 - val_accuracy: 0.9761\n",
            "Epoch 68/75\n",
            "69/69 [==============================] - 39s 560ms/step - loss: 0.0958 - accuracy: 0.9729 - val_loss: 0.0840 - val_accuracy: 0.9756\n",
            "Epoch 69/75\n",
            "69/69 [==============================] - 39s 559ms/step - loss: 0.0946 - accuracy: 0.9730 - val_loss: 0.0948 - val_accuracy: 0.9728\n",
            "Epoch 70/75\n",
            "69/69 [==============================] - 39s 561ms/step - loss: 0.0926 - accuracy: 0.9727 - val_loss: 0.0960 - val_accuracy: 0.9721\n",
            "Epoch 71/75\n",
            "69/69 [==============================] - 39s 559ms/step - loss: 0.0948 - accuracy: 0.9729 - val_loss: 0.1021 - val_accuracy: 0.9696\n",
            "Epoch 72/75\n",
            "69/69 [==============================] - 39s 562ms/step - loss: 0.0926 - accuracy: 0.9733 - val_loss: 0.0848 - val_accuracy: 0.9755\n",
            "Epoch 73/75\n",
            "69/69 [==============================] - 39s 564ms/step - loss: 0.0921 - accuracy: 0.9734 - val_loss: 0.0847 - val_accuracy: 0.9756\n",
            "Epoch 74/75\n",
            "69/69 [==============================] - 39s 561ms/step - loss: 0.0939 - accuracy: 0.9731 - val_loss: 0.0895 - val_accuracy: 0.9734\n",
            "Epoch 75/75\n",
            "69/69 [==============================] - 39s 564ms/step - loss: 0.0932 - accuracy: 0.9729 - val_loss: 0.1086 - val_accuracy: 0.9676\n"
          ]
        }
      ],
      "source": [
        "history = model.fit(X_train, y_train,\n",
        "                    epochs=75,  #Here we are telling the model to go over each training data 75 times\n",
        "                    batch_size=batch_size,\n",
        "                    verbose=1, \n",
        "                    validation_data=(X_test, y_test))"
      ]
    },
    {
      "cell_type": "markdown",
      "metadata": {
        "id": "rCcyG8IT6bb-"
      },
      "source": [
        "Access the historical accuracy of the model (with the history attribute).\n",
        "\n",
        "The output should contain as many values as the input size multiplied per the amount of loops in the training"
      ]
    },
    {
      "cell_type": "code",
      "execution_count": null,
      "metadata": {
        "colab": {
          "base_uri": "https://localhost:8080/"
        },
        "id": "0IWcBACO6bb-",
        "outputId": "e6d48c6d-4a43-493c-e819-ba7c0520b31b"
      },
      "outputs": [
        {
          "output_type": "execute_result",
          "data": {
            "text/plain": [
              "{'accuracy': [0.8016361594200134,\n",
              "  0.8644261360168457,\n",
              "  0.9045300483703613,\n",
              "  0.9182502031326294,\n",
              "  0.9275587797164917,\n",
              "  0.9322701692581177,\n",
              "  0.9366246461868286,\n",
              "  0.9399797320365906,\n",
              "  0.9415644407272339,\n",
              "  0.9446625709533691,\n",
              "  0.9465613961219788,\n",
              "  0.9488742351531982,\n",
              "  0.9504733085632324,\n",
              "  0.9516440033912659,\n",
              "  0.9522864818572998,\n",
              "  0.9553702473640442,\n",
              "  0.9557985663414001,\n",
              "  0.9563268423080444,\n",
              "  0.9570264220237732,\n",
              "  0.95799720287323,\n",
              "  0.9586825370788574,\n",
              "  0.9603101015090942,\n",
              "  0.9609668254852295,\n",
              "  0.960352897644043,\n",
              "  0.960795521736145,\n",
              "  0.962009072303772,\n",
              "  0.9624230861663818,\n",
              "  0.9632939696311951,\n",
              "  0.9644789695739746,\n",
              "  0.9648216366767883,\n",
              "  0.9640649557113647,\n",
              "  0.9644504189491272,\n",
              "  0.9662350416183472,\n",
              "  0.9651071429252625,\n",
              "  0.9662492871284485,\n",
              "  0.9660636782646179,\n",
              "  0.9664206504821777,\n",
              "  0.9668774604797363,\n",
              "  0.9669060707092285,\n",
              "  0.968219518661499,\n",
              "  0.9678911566734314,\n",
              "  0.968005359172821,\n",
              "  0.9686335325241089,\n",
              "  0.9689333438873291,\n",
              "  0.969575822353363,\n",
              "  0.9694045186042786,\n",
              "  0.9696043729782104,\n",
              "  0.9699041843414307,\n",
              "  0.9696614742279053,\n",
              "  0.9695901274681091,\n",
              "  0.9704752564430237,\n",
              "  0.9701183438301086,\n",
              "  0.9708179235458374,\n",
              "  0.9706751704216003,\n",
              "  0.9713747501373291,\n",
              "  0.9716745615005493,\n",
              "  0.971217691898346,\n",
              "  0.9710463285446167,\n",
              "  0.9710606336593628,\n",
              "  0.9713889956474304,\n",
              "  0.9716602563858032,\n",
              "  0.9717602133750916,\n",
              "  0.9718458652496338,\n",
              "  0.9719886183738708,\n",
              "  0.9718744158744812,\n",
              "  0.9725454449653625,\n",
              "  0.9724740386009216,\n",
              "  0.9728881120681763,\n",
              "  0.9730165600776672,\n",
              "  0.9726739525794983,\n",
              "  0.9728738069534302,\n",
              "  0.9733163714408875,\n",
              "  0.9734448790550232,\n",
              "  0.9731022119522095,\n",
              "  0.9729023575782776],\n",
              " 'loss': [0.7308197021484375,\n",
              "  0.4619685709476471,\n",
              "  0.3406622111797333,\n",
              "  0.2940690517425537,\n",
              "  0.2676922380924225,\n",
              "  0.2483818531036377,\n",
              "  0.23615552484989166,\n",
              "  0.22295765578746796,\n",
              "  0.2146618515253067,\n",
              "  0.20430567860603333,\n",
              "  0.1950484812259674,\n",
              "  0.18503372371196747,\n",
              "  0.1806100606918335,\n",
              "  0.17660973966121674,\n",
              "  0.17193035781383514,\n",
              "  0.16222870349884033,\n",
              "  0.16109374165534973,\n",
              "  0.15794554352760315,\n",
              "  0.15346762537956238,\n",
              "  0.15183579921722412,\n",
              "  0.14921745657920837,\n",
              "  0.144028440117836,\n",
              "  0.14292512834072113,\n",
              "  0.14160503447055817,\n",
              "  0.13849428296089172,\n",
              "  0.13455218076705933,\n",
              "  0.13518710434436798,\n",
              "  0.13200609385967255,\n",
              "  0.1287068873643875,\n",
              "  0.12823368608951569,\n",
              "  0.12760326266288757,\n",
              "  0.12547817826271057,\n",
              "  0.12168065458536148,\n",
              "  0.1207684651017189,\n",
              "  0.12032967060804367,\n",
              "  0.11905248463153839,\n",
              "  0.11766605824232101,\n",
              "  0.11596310883760452,\n",
              "  0.11583048105239868,\n",
              "  0.1152876615524292,\n",
              "  0.11336276680231094,\n",
              "  0.11208983510732651,\n",
              "  0.11132592707872391,\n",
              "  0.10960951447486877,\n",
              "  0.10792709141969681,\n",
              "  0.10877037048339844,\n",
              "  0.10866996645927429,\n",
              "  0.10699306428432465,\n",
              "  0.10563653707504272,\n",
              "  0.10607622563838959,\n",
              "  0.10359232872724533,\n",
              "  0.10451357811689377,\n",
              "  0.102395199239254,\n",
              "  0.10276485234498978,\n",
              "  0.10262563824653625,\n",
              "  0.10087265819311142,\n",
              "  0.10120169073343277,\n",
              "  0.10130443423986435,\n",
              "  0.0999658852815628,\n",
              "  0.09948176890611649,\n",
              "  0.09856358170509338,\n",
              "  0.09917139261960983,\n",
              "  0.09756723046302795,\n",
              "  0.09740979969501495,\n",
              "  0.09730090945959091,\n",
              "  0.09652155637741089,\n",
              "  0.095188207924366,\n",
              "  0.09582000225782394,\n",
              "  0.09464095532894135,\n",
              "  0.09261045604944229,\n",
              "  0.0948396846652031,\n",
              "  0.0926295667886734,\n",
              "  0.09205873310565948,\n",
              "  0.09388364106416702,\n",
              "  0.09315422177314758],\n",
              " 'val_accuracy': [0.8248529434204102,\n",
              "  0.8248529434204102,\n",
              "  0.8248529434204102,\n",
              "  0.8209125399589539,\n",
              "  0.8203415274620056,\n",
              "  0.8081777095794678,\n",
              "  0.8285648822784424,\n",
              "  0.8783050775527954,\n",
              "  0.9231911301612854,\n",
              "  0.9341557025909424,\n",
              "  0.9404374361038208,\n",
              "  0.9427217245101929,\n",
              "  0.9360973238945007,\n",
              "  0.9406658411026001,\n",
              "  0.9488321542739868,\n",
              "  0.947632908821106,\n",
              "  0.9536291360855103,\n",
              "  0.9483181834220886,\n",
              "  0.9529438614845276,\n",
              "  0.9595682621002197,\n",
              "  0.9591684937477112,\n",
              "  0.9631088972091675,\n",
              "  0.958311915397644,\n",
              "  0.9587687849998474,\n",
              "  0.9624236226081848,\n",
              "  0.9635657668113708,\n",
              "  0.9643081426620483,\n",
              "  0.9674490094184875,\n",
              "  0.9666495323181152,\n",
              "  0.9656786918640137,\n",
              "  0.9645937085151672,\n",
              "  0.9688767194747925,\n",
              "  0.9646508097648621,\n",
              "  0.9686482548713684,\n",
              "  0.9691622257232666,\n",
              "  0.9708754420280457,\n",
              "  0.9685911536216736,\n",
              "  0.9643652439117432,\n",
              "  0.9715036153793335,\n",
              "  0.971903383731842,\n",
              "  0.9720746874809265,\n",
              "  0.9723602533340454,\n",
              "  0.9733310341835022,\n",
              "  0.971332311630249,\n",
              "  0.9698475003242493,\n",
              "  0.9731597304344177,\n",
              "  0.9724744558334351,\n",
              "  0.9718462824821472,\n",
              "  0.9731597304344177,\n",
              "  0.9741305708885193,\n",
              "  0.9736166000366211,\n",
              "  0.9705899357795715,\n",
              "  0.9715036153793335,\n",
              "  0.9745302796363831,\n",
              "  0.9743018746376038,\n",
              "  0.9736166000366211,\n",
              "  0.971903383731842,\n",
              "  0.9752155542373657,\n",
              "  0.9754440188407898,\n",
              "  0.9757866263389587,\n",
              "  0.9696761965751648,\n",
              "  0.9721888899803162,\n",
              "  0.971674919128418,\n",
              "  0.9721888899803162,\n",
              "  0.9761863946914673,\n",
              "  0.9712181091308594,\n",
              "  0.9760721921920776,\n",
              "  0.9756153225898743,\n",
              "  0.9727599620819092,\n",
              "  0.9721317887306213,\n",
              "  0.9695619940757751,\n",
              "  0.9755011200904846,\n",
              "  0.9756153225898743,\n",
              "  0.973388135433197,\n",
              "  0.9676203727722168],\n",
              " 'val_loss': [0.7624484896659851,\n",
              "  0.8316102027893066,\n",
              "  0.827914297580719,\n",
              "  0.883316695690155,\n",
              "  0.9345733523368835,\n",
              "  0.919636070728302,\n",
              "  0.7689186334609985,\n",
              "  0.6432144641876221,\n",
              "  0.4275147616863251,\n",
              "  0.3252130448818207,\n",
              "  0.29676732420921326,\n",
              "  0.2607763111591339,\n",
              "  0.28562647104263306,\n",
              "  0.25151288509368896,\n",
              "  0.2108153998851776,\n",
              "  0.20579448342323303,\n",
              "  0.18159829080104828,\n",
              "  0.1981063038110733,\n",
              "  0.17791154980659485,\n",
              "  0.14752702414989471,\n",
              "  0.14690618216991425,\n",
              "  0.13254167139530182,\n",
              "  0.14774054288864136,\n",
              "  0.14188238978385925,\n",
              "  0.13279856741428375,\n",
              "  0.13128796219825745,\n",
              "  0.12876802682876587,\n",
              "  0.11579971015453339,\n",
              "  0.11519266664981842,\n",
              "  0.11936202645301819,\n",
              "  0.1239815279841423,\n",
              "  0.11126761138439178,\n",
              "  0.11989010870456696,\n",
              "  0.10944437980651855,\n",
              "  0.10586686432361603,\n",
              "  0.10310983657836914,\n",
              "  0.10757847875356674,\n",
              "  0.12000643461942673,\n",
              "  0.10261374711990356,\n",
              "  0.0989091694355011,\n",
              "  0.09755658358335495,\n",
              "  0.09509588778018951,\n",
              "  0.09593905508518219,\n",
              "  0.1023445799946785,\n",
              "  0.10396532714366913,\n",
              "  0.09513303637504578,\n",
              "  0.09636415541172028,\n",
              "  0.0954354926943779,\n",
              "  0.09198769927024841,\n",
              "  0.09024899452924728,\n",
              "  0.09203556925058365,\n",
              "  0.10275019705295563,\n",
              "  0.09582078456878662,\n",
              "  0.08989600092172623,\n",
              "  0.08782587945461273,\n",
              "  0.08985091745853424,\n",
              "  0.09620639681816101,\n",
              "  0.08574595302343369,\n",
              "  0.08602340519428253,\n",
              "  0.08553364872932434,\n",
              "  0.10243961960077286,\n",
              "  0.09579425305128098,\n",
              "  0.09921711683273315,\n",
              "  0.09557461738586426,\n",
              "  0.08521969616413116,\n",
              "  0.09714221954345703,\n",
              "  0.08281891793012619,\n",
              "  0.08399876207113266,\n",
              "  0.09484602510929108,\n",
              "  0.09597115218639374,\n",
              "  0.10214414447546005,\n",
              "  0.0848015546798706,\n",
              "  0.084722138941288,\n",
              "  0.08950155973434448,\n",
              "  0.1086234301328659]}"
            ]
          },
          "metadata": {},
          "execution_count": 41
        }
      ],
      "source": [
        "history.history"
      ]
    },
    {
      "cell_type": "markdown",
      "metadata": {
        "id": "RYUyTVHE6bb_"
      },
      "source": [
        "How does the accuracy vary after each training loop?\n",
        "\n",
        "Let's check if our model is overfitting. Draw a graph with the accuracy in train and in validation using the data from the history object.\n",
        "\n",
        "Use `plt.plot()`"
      ]
    },
    {
      "cell_type": "code",
      "execution_count": null,
      "metadata": {
        "colab": {
          "base_uri": "https://localhost:8080/",
          "height": 283
        },
        "id": "GseOdgeH6bb_",
        "outputId": "68e8af14-14e5-43cb-980b-66009bdb6ed1"
      },
      "outputs": [
        {
          "output_type": "execute_result",
          "data": {
            "text/plain": [
              "<matplotlib.legend.Legend at 0x7eff184456d0>"
            ]
          },
          "metadata": {},
          "execution_count": 57
        },
        {
          "output_type": "display_data",
          "data": {
            "text/plain": [
              "<Figure size 432x288 with 1 Axes>"
            ],
            "image/png": "[encoded data removed]"
          },
          "metadata": {
            "needs_background": "light"
          }
        }
      ],
      "source": [
        "plt.plot(history.history['accuracy'], label='Accuracy')\n",
        "plt.plot(history.history['val_accuracy'], label='Validation Accuracy')\n",
        "plt.legend()"
      ]
    },
    {
      "cell_type": "markdown",
      "metadata": {
        "id": "RBQdP2Wk6bcC"
      },
      "source": [
        "Repeat the same, but with the loss."
      ]
    },
    {
      "cell_type": "code",
      "execution_count": null,
      "metadata": {
        "colab": {
          "base_uri": "https://localhost:8080/",
          "height": 283
        },
        "id": "LIHWna4n6bcC",
        "outputId": "c07ce340-4cd2-4810-ab63-7b60a41c51fc"
      },
      "outputs": [
        {
          "output_type": "execute_result",
          "data": {
            "text/plain": [
              "<matplotlib.legend.Legend at 0x7eff14dff950>"
            ]
          },
          "metadata": {},
          "execution_count": 43
        },
        {
          "output_type": "display_data",
          "data": {
            "text/plain": [
              "<Figure size 432x288 with 1 Axes>"
            ],
            "image/png": "[encoded data removed]"
          },
          "metadata": {
            "needs_background": "light"
          }
        }
      ],
      "source": [
        "plt.plot(history.history['loss'], label='Loss')\n",
        "plt.plot(history.history['val_loss'], label='Validation Loss')\n",
        "plt.legend()"
      ]
    },
    {
      "cell_type": "markdown",
      "metadata": {
        "id": "6NgBbwH66bcC"
      },
      "source": [
        "Let's see what the X_test predicts."
      ]
    },
    {
      "cell_type": "code",
      "execution_count": null,
      "metadata": {
        "id": "mr_quKD96bcC"
      },
      "outputs": [],
      "source": [
        "y_pred = model.predict(X_test, batch_size=1000)"
      ]
    },
    {
      "cell_type": "markdown",
      "metadata": {
        "id": "dDJEle6o6bcC"
      },
      "source": [
        "What is the dimension of the prediction y_pred?"
      ]
    },
    {
      "cell_type": "code",
      "execution_count": null,
      "metadata": {
        "colab": {
          "base_uri": "https://localhost:8080/"
        },
        "id": "WojdAcvf6bcD",
        "outputId": "8eb0a4e4-7509-4257-efaf-e2fe2d7d7c35"
      },
      "outputs": [
        {
          "output_type": "execute_result",
          "data": {
            "text/plain": [
              "(17511, 5)"
            ]
          },
          "metadata": {},
          "execution_count": 59
        }
      ],
      "source": [
        "y_pred.shape"
      ]
    },
    {
      "cell_type": "markdown",
      "metadata": {
        "id": "PDwDUMWm6bcD"
      },
      "source": [
        "For a given iteration, compare the prediction to the expected value using a bar graph.\n",
        "\n"
      ]
    },
    {
      "cell_type": "code",
      "execution_count": null,
      "metadata": {
        "colab": {
          "base_uri": "https://localhost:8080/",
          "height": 300
        },
        "id": "W-YU-TUE6bcD",
        "outputId": "662d29b9-8676-4580-83c0-a1cd387b2296"
      },
      "outputs": [
        {
          "output_type": "stream",
          "name": "stdout",
          "text": [
            "[0. 0. 0. 0. 1.]\n"
          ]
        },
        {
          "output_type": "execute_result",
          "data": {
            "text/plain": [
              "<BarContainer object of 5 artists>"
            ]
          },
          "metadata": {},
          "execution_count": 61
        },
        {
          "output_type": "display_data",
          "data": {
            "text/plain": [
              "<Figure size 432x288 with 1 Axes>"
            ],
            "image/png": "[encoded data removed]"
          },
          "metadata": {
            "needs_background": "light"
          }
        }
      ],
      "source": [
        "print(y_test[6])\n",
        "plt.bar(range(n_classes), height=y_pred[6])"
      ]
    },
    {
      "cell_type": "markdown",
      "metadata": {
        "id": "etii7mbG6bcD"
      },
      "source": [
        "Does the model pose a single possibility or probabilities when estimating the category?\n",
        "\n",
        "> "
      ]
    },
    {
      "cell_type": "markdown",
      "metadata": {
        "id": "8B4oEWlF6bcD"
      },
      "source": [
        "We have already trained our model and we can check how good it is and whether it has been overfitted. The following code is a good way to generate a model report. After that, we are showing a confusion matrix:  snippet generates a model report, and the next one a confusion matrix. Both are good ways to evaluate your model"
      ]
    },
    {
      "cell_type": "code",
      "execution_count": null,
      "metadata": {
        "colab": {
          "base_uri": "https://localhost:8080/"
        },
        "id": "B2_Mz6xW6bcD",
        "outputId": "0121d715-81b8-4db7-8339-305e93eb5d70"
      },
      "outputs": [
        {
          "output_type": "stream",
          "name": "stdout",
          "text": [
            "              precision    recall  f1-score   support\n",
            "\n",
            "           0       0.97      1.00      0.98     14444\n",
            "           1       0.98      0.58      0.73       502\n",
            "           2       0.98      0.85      0.91      1145\n",
            "           3       0.63      0.26      0.37       146\n",
            "           4       0.99      0.96      0.97      1274\n",
            "\n",
            "    accuracy                           0.97     17511\n",
            "   macro avg       0.91      0.73      0.79     17511\n",
            "weighted avg       0.97      0.97      0.96     17511\n",
            "\n"
          ]
        }
      ],
      "source": [
        "print(classification_report(y_test.argmax(axis=1), y_pred.argmax(axis=1)))"
      ]
    },
    {
      "cell_type": "code",
      "execution_count": null,
      "metadata": {
        "colab": {
          "base_uri": "https://localhost:8080/",
          "height": 747
        },
        "id": "-yfCrx0r6bcD",
        "outputId": "fba8fff3-2729-4e91-985e-263b30ea20b5"
      },
      "outputs": [
        {
          "output_type": "stream",
          "name": "stdout",
          "text": [
            "Normalized confusion matrix\n"
          ]
        },
        {
          "output_type": "display_data",
          "data": {
            "text/plain": [
              "<Figure size 720x720 with 2 Axes>"
            ],
            "image/png": "[encoded data removed]"
          },
          "metadata": {
            "needs_background": "light"
          }
        }
      ],
      "source": [
        "#Confusion matrix\n",
        "def plot_confusion_matrix(cm, classes,\n",
        "                          normalize=False,\n",
        "                          title='Confusion matrix',\n",
        "                          cmap=plt.cm.Blues):\n",
        "    \"\"\"\n",
        "    This function prints and plots the confusion matrix.\n",
        "    Normalization can be applied by setting `normalize=True`.\n",
        "    \"\"\"\n",
        "    if normalize:\n",
        "        cm = cm.astype('float') / cm.sum(axis=1)[:, np.newaxis]\n",
        "        print(\"Normalized confusion matrix\")\n",
        "    else:\n",
        "        print('Confusion matrix, without normalization')\n",
        "\n",
        "    plt.imshow(cm, interpolation='nearest', cmap=cmap)\n",
        "    plt.title(title)\n",
        "    plt.colorbar()\n",
        "    tick_marks = np.arange(len(classes))\n",
        "    plt.xticks(tick_marks, classes, rotation=45)\n",
        "    plt.yticks(tick_marks, classes)\n",
        "\n",
        "    fmt = '.2f' if normalize else 'd'\n",
        "    thresh = cm.max() / 2.\n",
        "    for i, j in itertools.product(range(cm.shape[0]), range(cm.shape[1])):\n",
        "        plt.text(j, i, format(cm[i, j], fmt),\n",
        "                 horizontalalignment=\"center\",\n",
        "                 color=\"white\" if cm[i, j] > thresh else \"black\")\n",
        "\n",
        "    plt.tight_layout()\n",
        "    plt.ylabel('True label')\n",
        "    plt.xlabel('Predicted label')\n",
        "\n",
        "# Compute confusion matrix\n",
        "cnf_matrix = confusion_matrix(y_test.argmax(axis=1), y_pred.argmax(axis=1))\n",
        "np.set_printoptions(precision=2)\n",
        "\n",
        "# Plot non-normalized confusion matrix\n",
        "plt.figure(figsize=(10, 10))\n",
        "plot_confusion_matrix(cnf_matrix, classes=['N', 'S', 'V', 'F', 'Q'],\n",
        "                      title='Confusion matrix, with normalization',\n",
        "                      normalize=True)\n",
        "plt.show()"
      ]
    },
    {
      "cell_type": "markdown",
      "metadata": {
        "id": "jLRLZLJf6bcD"
      },
      "source": [
        "**Questions:**\n",
        "- If we take everything that is not normal as positive, does the model err more in false positives or in false negatives?\n",
        "- Which category generates the greatest error?\n",
        "- Is there overfitting?\n",
        "- How does batch_size affect training?"
      ]
    },
    {
      "cell_type": "markdown",
      "metadata": {
        "id": "Iun0HoMa6bcD"
      },
      "source": [
        "Now it's your turn to improve the model. Try other optimizers, change the cost function, go crazy with the batch_size... The paper at the beginning may give you some clues. As always, whoever has the best score, has a prize!"
      ]
    }
  ],
  "metadata": {
    "kernelspec": {
      "display_name": "Python 3",
      "language": "python",
      "name": "python3"
    },
    "language_info": {
      "codemirror_mode": {
        "name": "ipython",
        "version": 3
      },
      "file_extension": ".py",
      "mimetype": "text/x-python",
      "name": "python",
      "nbconvert_exporter": "python",
      "pygments_lexer": "ipython3",
      "version": "3.8.5"
    },
    "colab": {
      "name": "[Solution Colab] Challenge_NN_ECD.ipynb",
      "provenance": [],
      "collapsed_sections": [
        "L0qYB7lj6bbw",
        "9tQs1fJ96bb7"
      ]
    }
  },
  "nbformat": 4,
  "nbformat_minor": 0
}